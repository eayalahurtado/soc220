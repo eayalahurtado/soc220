{
 "cells": [
  {
   "cell_type": "markdown",
   "metadata": {
    "button": false,
    "deletable": true,
    "new_sheet": false,
    "run_control": {
     "read_only": false
    }
   },
   "source": [
    "<font color=darkred>\n",
    "\n",
    "# Soc220: Computational Text Analysis\n",
    "## Lab1: A (re)introduction to Python\n",
    "\n",
    "<br>\n",
    "\n",
    "![philology](https://lh3.ggpht.com/-ZPt_AIFJdXk/Tzzs9tdvFRI/AAAAAAAADLA/eSVlRz4VS-g/s1600/rudimenta.jpg)\n",
    "\n",
    "***\n",
    "    v4\n",
    "    1/29/2018\n",
    "    Zach Wehrwein\n",
    "    (Image: A High Medieval philology seminar)"
   ]
  },
  {
   "cell_type": "markdown",
   "metadata": {
    "button": false,
    "deletable": true,
    "new_sheet": false,
    "run_control": {
     "read_only": false
    }
   },
   "source": [
    "### Lab syllabus\n",
    "\n",
    "This lab meets weekly following the discussion section with Bart. We will review an implementation of the method discussed. Here's the basic plan: on Wednesday we discuss a method, then on Thursday, I show you how to do it, and then from Friday through Sunday, you work on your own to implement and interpret said method on your own text data. Come Monday, I am available all day for office hours to discuss any issues you have.\n",
    "\n",
    "Office hours booking: [zwehrwein.youcanbook.me](zwehrwein.youcanbook.me)\n",
    "\n",
    "-- Be on the look out for frequent feedback forms.\n",
    "\n",
    "\n",
    "\n",
    "### Rought sketch of the labs:\n",
    "\n",
    "Week 1.) A (re)Introduction to Python  <br>\n",
    "Week 2.) Web scraping; regular expressions<br>\n",
    "Week 3.) APIs; storing data <br>\n",
    "Week 4.) Preprocessing and data wrangling: stemming, cleaning, lemmatization, and corpus structure choices. Simple counting and visualization. <br>\n",
    "\n",
    "Week 5.) Basic NLP (parts of speech tagging, named entity recognition), dictionary methods. <br>\n",
    "Week 6.) Classifying text with ML: logistic regression, Naive Bayes, SVMs <br>\n",
    "\n",
    "Week 7.) Topic Models 1 (LDA) <br>\n",
    "Week 8.) Topic Models 2 (probably stm)<br>\n",
    "Week 9.) Word embeddings; word2vec <br>\n",
    "Week 10.) Experimental network analysis and text methods<br>\n",
    "\n",
    "Week 11.) Sentiment analysis and the problem of finding meaning.\n",
    "   \n",
    "***\n",
    "\n",
    "### 1: Outline of today\n",
    "(n.b. This lab used code from labs in from AC209a: Data Science 1 @Harvard & PS425: Text as Data @Stanford)\n",
    "   \n",
    "1. [Jupyter notebooks](#jup_notebooks)\n",
    "1. [Installing and importing libraries/packages/modules](#install_libraries)\n",
    "1. [Common error messages](#error_messages)\n",
    "1. [Variables and data structures](#data_structures)\n",
    "1. [Loops and list comprehensions](#loops_and_lists)\n",
    "1. [User-defined functions and lambda functions](#functions)\n",
    "1. [Control flow](#control_flow)\n",
    "\n",
    "***"
   ]
  },
  {
   "cell_type": "markdown",
   "metadata": {
    "button": false,
    "deletable": true,
    "new_sheet": false,
    "run_control": {
     "read_only": false
    }
   },
   "source": [
    "<font color=darkpurple>\n",
    "    \n",
    "[Google Python Style Guide](https://google.github.io/styleguide/pyguide.html)"
   ]
  },
  {
   "cell_type": "markdown",
   "metadata": {
    "button": false,
    "deletable": true,
    "new_sheet": false,
    "run_control": {
     "read_only": false
    }
   },
   "source": [
    "<a id='jup_notebooks'></a>"
   ]
  },
  {
   "cell_type": "markdown",
   "metadata": {
    "button": false,
    "deletable": true,
    "new_sheet": false,
    "run_control": {
     "read_only": false
    }
   },
   "source": [
    "<font color=darkblue>\n",
    "\n",
    "### 1.) Jupyter notebooks"
   ]
  },
  {
   "cell_type": "markdown",
   "metadata": {
    "button": false,
    "deletable": true,
    "new_sheet": false,
    "run_control": {
     "read_only": false
    }
   },
   "source": [
    "What are Python notebooks good for?\n",
    "\n",
    "* Easy to share code (as in all of your labs this semester)\n",
    "* Easy to reproduce analysis (for all of your homeworks)\n",
    "* Great for mixing text, code, and output.\n",
    "* Code can be run in chunks.\n",
    "* Great for customizing and export visualizations\n",
    "* Excellent library management\n",
    "* Pressing 'tab' in a Jupyter notebook opens up menu option of commands.\n",
    "* Jupyter lab also includes 'suggested code' while you work which can be extremely useful.\n",
    "\n",
    "What's not so great?\n",
    "\n",
    "* Unlike the R IDE Rstudio, (or Stata), no way to show what objects are in active memory, no GUI, and like many aspects of working in the CS domain, generally can be 'social science unfriendly.' Jupyter Lab is an alternative in development. Rodeo is a very unfunctional IDE for Python. Atom is the go-to free text editor.\n",
    "* The 'guts' of various options aren't always intutive.\n",
    "\n",
    "\n",
    "**Installations**\n",
    "\n",
    "Anaconda: [Anaconda](http://continuum.io/downloads) <br>\n",
    "(this includes many useful packages, a 3.6 distribution of Python, and Jupyter notebook program. This is all you need!\n",
    "\n",
    "Jupyter Lab: `conda install -c conda-forge jupyterlab` in Terminal\n",
    "\n",
    "Atom: [Atom](https://atom.io/)\n",
    "\n",
    "For Windows users: [Git Bash](https://git-scm.com/downloads) is a good \"Terminal\" to use.\n",
    "\n",
    "Then, be sure to update by typing the following in Terminal:\n",
    "\n",
    "```\n",
    "conda update conda\n",
    "conda update anaconda\n",
    "```\n",
    "\n",
    "+ To open jupyter notebook, type `jupyter notebook` in Terminal\n",
    "+ To open a jupyter lab notebook, type `jupyter lab` in Terminal"
   ]
  },
  {
   "cell_type": "markdown",
   "metadata": {
    "button": false,
    "deletable": true,
    "new_sheet": false,
    "run_control": {
     "read_only": false
    }
   },
   "source": [
    "#### Magic commands"
   ]
  },
  {
   "cell_type": "markdown",
   "metadata": {
    "button": false,
    "deletable": true,
    "new_sheet": false,
    "run_control": {
     "read_only": false
    }
   },
   "source": [
    "Execute a command inside a Python notebook: `%run myscript.py`\n",
    "\n",
    "Also, time how long a given cell takes to run. Useful for large computations or complicated data wrangles. `%timeit` at the begining of any cell to see how long computation takes."
   ]
  },
  {
   "cell_type": "markdown",
   "metadata": {
    "button": false,
    "deletable": true,
    "new_sheet": false,
    "run_control": {
     "read_only": false
    }
   },
   "source": [
    "<font color=red>\n",
    "#### Exercise\n",
    "\n",
    "Once you have opened a notebook, type excute the following two cells:"
   ]
  },
  {
   "cell_type": "code",
   "execution_count": null,
   "metadata": {
    "button": false,
    "collapsed": true,
    "deletable": true,
    "new_sheet": false,
    "run_control": {
     "read_only": false
    }
   },
   "outputs": [],
   "source": [
    "x = [10, 20, 30, 40, 50]\n",
    "for ele in x:\n",
    "    print(\"This element is\",ele)"
   ]
  },
  {
   "cell_type": "code",
   "execution_count": null,
   "metadata": {
    "button": false,
    "collapsed": true,
    "deletable": true,
    "new_sheet": false,
    "run_control": {
     "read_only": false
    }
   },
   "outputs": [],
   "source": [
    "import sys\n",
    "print(sys.version)"
   ]
  },
  {
   "cell_type": "markdown",
   "metadata": {
    "button": false,
    "deletable": true,
    "new_sheet": false,
    "run_control": {
     "read_only": false
    }
   },
   "source": [
    "<a id='install_libraries'></a>"
   ]
  },
  {
   "cell_type": "markdown",
   "metadata": {
    "button": false,
    "deletable": true,
    "new_sheet": false,
    "run_control": {
     "read_only": false
    }
   },
   "source": [
    "<font color=darkblue>\n",
    "\n",
    "***\n",
    "### 2.) Installing and loading libraries\n",
    "\n",
    "<font color=black >\n",
    "\n",
    "Let's say you are working away and wish to execute something complicated or you've found some website telling you to use a given library that you don't have installed. This is what you should do.\n",
    "\n",
    "Libraries are families of functions and methods. You can import an entire library or you can import a specific function or method from a library. n.b. Sometimes libraries conflict with one another and loading a large package can be memory heavy.\n",
    "\n",
    "To install libraries:\n",
    "\n",
    "1) In terminal type `pip install LIBRARY-NAME` or do the same in a notebook with a `!`. <br>\n",
    "2) Including -U `pip install -U LIBRARY_NAME` tells Anacoda to go get a fresh install of the package (this is useful for debugging purposes)."
   ]
  },
  {
   "cell_type": "markdown",
   "metadata": {
    "button": false,
    "deletable": true,
    "new_sheet": false,
    "run_control": {
     "read_only": false
    }
   },
   "source": [
    "<font color=darkblue>\n",
    "\n",
    "**Use the following code to install any libraries that you may not have:**"
   ]
  },
  {
   "cell_type": "code",
   "execution_count": null,
   "metadata": {
    "button": false,
    "collapsed": true,
    "deletable": true,
    "new_sheet": false,
    "run_control": {
     "read_only": false
    },
    "scrolled": false
   },
   "outputs": [],
   "source": [
    "!pip install NetworkX"
   ]
  },
  {
   "cell_type": "code",
   "execution_count": null,
   "metadata": {
    "button": false,
    "collapsed": true,
    "deletable": true,
    "new_sheet": false,
    "run_control": {
     "read_only": false
    },
    "scrolled": true
   },
   "outputs": [],
   "source": [
    "!pip install -U NetworkX"
   ]
  },
  {
   "cell_type": "markdown",
   "metadata": {
    "button": false,
    "deletable": true,
    "new_sheet": false,
    "run_control": {
     "read_only": false
    }
   },
   "source": [
    "<font color=red>\n",
    "Exercise \n",
    "    \n",
    "Check to make sure the following libraries are installed and up to date."
   ]
  },
  {
   "cell_type": "code",
   "execution_count": null,
   "metadata": {
    "button": false,
    "collapsed": true,
    "deletable": true,
    "new_sheet": false,
    "run_control": {
     "read_only": false
    }
   },
   "outputs": [],
   "source": [
    "#System related\n",
    "import IPython\n",
    "print(\"IPython version: %6.6s (need at least 5.0.0)\" % IPython.__version__)\n",
    "\n",
    "#computationally related\n",
    "import numpy as np\n",
    "print(\"Numpy version: %6.6s (need at least 1.12.0)\" % np.__version__)\n",
    "import scipy as sp\n",
    "print(\"SciPy version: %6.6s (need at least 0.19.0)\" % sp.__version__)\n",
    "import pandas as pd\n",
    "print(\"Pandas version: %6.6s (need at least 0.20.0)\" % pd.__version__)\n",
    "import sklearn\n",
    "print(\"Scikit-Learn version: %6.6s (need at least 0.18.1)\" % sklearn.__version__)\n",
    "\n",
    "#for visualizations\n",
    "import seaborn\n",
    "print(\"Seaborn version: %6.6s (need at least 0.7)\" % seaborn.__version__)\n",
    "import matplotlib\n",
    "print(\"Matplotlib version: %6.6s (need at least 2.0.0)\" % matplotlib.__version__)\n",
    "\n",
    "#for web scrapping\n",
    "import bs4\n",
    "print(\"BeautifulSoup version: %6.6s (need at least 4.4)\" % bs4.__version__)\n",
    "import requests\n",
    "print(\"requests version: %6.6s (need at least 2.9.0)\" % requests.__version__)\n",
    "\n",
    "#for text analysis\n",
    "import gensim\n",
    "print(\"gensim version:%6.6s (need at least 3.2.0)\" % gensim.__version__)\n",
    "import nltk\n",
    "print(\"nltk version:%6.6s (need at least 3.25)\" % nltk.__version__)"
   ]
  },
  {
   "cell_type": "markdown",
   "metadata": {
    "button": false,
    "deletable": true,
    "new_sheet": false,
    "run_control": {
     "read_only": false
    }
   },
   "source": [
    "<font color=darkgreen>\n",
    "    \n",
    "### Function vs Method"
   ]
  },
  {
   "cell_type": "code",
   "execution_count": null,
   "metadata": {
    "button": false,
    "collapsed": true,
    "deletable": true,
    "new_sheet": false,
    "run_control": {
     "read_only": false
    }
   },
   "outputs": [],
   "source": [
    "#import the following commands\n",
    "\n",
    "#500 coin flips data simulated:\n",
    "heads = np.random.binomial(500, .5, size=500)\n",
    "\n",
    "#TWO WAYS TO IMPORT:\n",
    "#TO IMPORT ENTIRE LIBRARY\n",
    "#import [LIBRARY] as [SHORTCUT]|\n",
    "import matplotlib.pyplot as plt"
   ]
  },
  {
   "cell_type": "code",
   "execution_count": null,
   "metadata": {
    "button": false,
    "collapsed": true,
    "deletable": true,
    "new_sheet": false,
    "run_control": {
     "read_only": false
    }
   },
   "outputs": [],
   "source": [
    "#[LIBRARY].[METHOD]\n",
    "plt.hist(heads)\n",
    "plt.show()"
   ]
  },
  {
   "cell_type": "code",
   "execution_count": null,
   "metadata": {
    "button": false,
    "collapsed": true,
    "deletable": true,
    "new_sheet": false,
    "run_control": {
     "read_only": false
    }
   },
   "outputs": [],
   "source": [
    "# TO IMPORT SPECIFIC METHOD\n",
    "# from [LIBRARY] import [METHOD]\n",
    "from matplotlib.pyplot import hist "
   ]
  },
  {
   "cell_type": "code",
   "execution_count": null,
   "metadata": {
    "button": false,
    "collapsed": true,
    "deletable": true,
    "new_sheet": false,
    "run_control": {
     "read_only": false
    },
    "scrolled": true
   },
   "outputs": [],
   "source": [
    "hist(heads)\n",
    "plt.show()"
   ]
  },
  {
   "cell_type": "markdown",
   "metadata": {
    "button": false,
    "deletable": true,
    "new_sheet": false,
    "run_control": {
     "read_only": false
    }
   },
   "source": [
    "<a id='error_messages'></a>"
   ]
  },
  {
   "cell_type": "markdown",
   "metadata": {
    "button": false,
    "deletable": true,
    "new_sheet": false,
    "run_control": {
     "read_only": false
    }
   },
   "source": [
    "<font color=darkblue>\n",
    "***\n",
    "    \n",
    "### 3.) Common error messages and what to do about them"
   ]
  },
  {
   "cell_type": "markdown",
   "metadata": {
    "button": false,
    "deletable": true,
    "new_sheet": false,
    "run_control": {
     "read_only": false
    }
   },
   "source": [
    "I don't understand the error message I got, what should I do?\n",
    "\n",
    "+ Well, perhaps don't Google. Py3.6 is very different than Py2.7 -- if you start copying code from the wrong version history, there are many ways things can fail.\n",
    "    - But, then again, googling error code is probably your best bet.\n",
    "    + Stack overflow and github can be invaluable sources of code, but always be sure you know what you are doing. In this class, we ask that for *every line of code that you copy, you comment above it describing what it is doing, even if it's really obvious.*\n",
    "+ [Fluent Python](https://github.com/fluentpython/example-code), [Learn Python the Hard Way](https://github.com/wzpan/Learn-Python-The-Hard-Way), and [the core Python docs on errors](https://docs.python.org/3/tutorial/errors.html) are great resources.\n",
    "+ More often than note, from personal experience, lots of errors are a fuction of misapplying methods or functions to objects (which makes sense in an object-oriented programming language)."
   ]
  },
  {
   "cell_type": "raw",
   "metadata": {
    "button": false,
    "deletable": true,
    "new_sheet": false,
    "run_control": {
     "read_only": false
    }
   },
   "source": [
    "# e.g numpy array doesnt have a method of 'hist'\n",
    "heads.hist()"
   ]
  },
  {
   "cell_type": "code",
   "execution_count": null,
   "metadata": {
    "button": false,
    "collapsed": true,
    "deletable": true,
    "new_sheet": false,
    "run_control": {
     "read_only": false
    }
   },
   "outputs": [],
   "source": [
    "# use the dir function to see which methods apply to a given object.\n",
    "dir(heads)"
   ]
  },
  {
   "cell_type": "code",
   "execution_count": null,
   "metadata": {
    "button": false,
    "collapsed": true,
    "deletable": true,
    "new_sheet": false,
    "run_control": {
     "read_only": false
    }
   },
   "outputs": [],
   "source": [
    "heads.hist"
   ]
  },
  {
   "cell_type": "code",
   "execution_count": null,
   "metadata": {
    "button": false,
    "collapsed": true,
    "deletable": true,
    "new_sheet": false,
    "run_control": {
     "read_only": false
    }
   },
   "outputs": [],
   "source": [
    "# function applied to a numpy array\n",
    "hist(heads)"
   ]
  },
  {
   "cell_type": "code",
   "execution_count": null,
   "metadata": {
    "button": false,
    "collapsed": true,
    "deletable": true,
    "new_sheet": false,
    "run_control": {
     "read_only": false
    }
   },
   "outputs": [],
   "source": [
    "# we need to call it again in order to actually show it.\n",
    "plt.show()"
   ]
  },
  {
   "cell_type": "markdown",
   "metadata": {
    "button": false,
    "deletable": true,
    "new_sheet": false,
    "run_control": {
     "read_only": false
    }
   },
   "source": [
    "![a](https://pbs.twimg.com/media/Cl0oWqfWEAAH8bA.jpg)"
   ]
  },
  {
   "cell_type": "markdown",
   "metadata": {
    "button": false,
    "deletable": true,
    "new_sheet": false,
    "run_control": {
     "read_only": false
    }
   },
   "source": [
    "***"
   ]
  },
  {
   "cell_type": "markdown",
   "metadata": {
    "button": false,
    "deletable": true,
    "new_sheet": false,
    "run_control": {
     "read_only": false
    }
   },
   "source": [
    "<a id='data_structures'></a>"
   ]
  },
  {
   "cell_type": "markdown",
   "metadata": {
    "button": false,
    "deletable": true,
    "new_sheet": false,
    "run_control": {
     "read_only": false
    }
   },
   "source": [
    "<font color=darkblue>\n",
    "\n",
    "### 4.) Types of variables and data structures"
   ]
  },
  {
   "cell_type": "markdown",
   "metadata": {
    "button": false,
    "deletable": true,
    "new_sheet": false,
    "run_control": {
     "read_only": false
    }
   },
   "source": [
    "![signsnotbuckets](sticksnotboxes.png)\n",
    "\n",
    "(from Fluent Python)\n",
    "\n",
    "#### Variables\n",
    "* Single value\n",
    "* Strings, integer, floats and boolean\n",
    "* Remember, under the covers they are all objects.\n",
    "* Multiple variables can be output with the print() statement.\n",
    "* \\t can be used to add a tab while \\n can input a new line."
   ]
  },
  {
   "cell_type": "code",
   "execution_count": null,
   "metadata": {
    "button": false,
    "collapsed": true,
    "deletable": true,
    "new_sheet": false,
    "run_control": {
     "read_only": false
    }
   },
   "outputs": [],
   "source": [
    "# Python as calculator\n",
    "\n",
    "print('Addition:', 5 + 5)\n",
    "print('Multiplication:', 5 * 5)\n",
    "print('Subtraction:', 5 - 5)\n",
    "print('Division', 5 / 5 )\n",
    "print('Floor Division (discards the fractional part)', 53 // 5 )\n",
    "#n.b. modulo operator useful for data wrangling and finding the 'end' of a list.\n",
    "print('Floor Division (returns the remainder)', 53 % 5 )\n",
    "print('Exponents:', 5 ** 2 )"
   ]
  },
  {
   "cell_type": "code",
   "execution_count": null,
   "metadata": {
    "button": false,
    "collapsed": true,
    "deletable": true,
    "new_sheet": false,
    "run_control": {
     "read_only": false
    }
   },
   "outputs": [],
   "source": [
    "a = 1\n",
    "print(a, type(a))\n",
    "\n",
    "a = str(a)\n",
    "print (a, type(a))\n",
    "\n",
    "a = float(a)\n",
    "print (a, type(a))\n",
    "\n",
    "a = int(a)\n",
    "print (a, type(a))"
   ]
  },
  {
   "cell_type": "code",
   "execution_count": null,
   "metadata": {
    "button": false,
    "collapsed": true,
    "deletable": true,
    "new_sheet": false,
    "run_control": {
     "read_only": false
    }
   },
   "outputs": [],
   "source": [
    "print(1 == 2) #False\n",
    "print(1 != 2) #True\n",
    "print(1 > 2 ) #False\n",
    "print(1 < 2 ) #True\n",
    "print(2 >= 2) #True\n",
    "print(1 <= 2) #True"
   ]
  },
  {
   "cell_type": "markdown",
   "metadata": {
    "button": false,
    "deletable": true,
    "new_sheet": false,
    "run_control": {
     "read_only": false
    }
   },
   "source": [
    "#### Strings\n",
    "\n",
    "- Human text is stored as a string\n",
    "- Strings are really lists of characters though, computers don't understand what constitutes a words or sentences."
   ]
  },
  {
   "cell_type": "code",
   "execution_count": null,
   "metadata": {
    "button": false,
    "collapsed": true,
    "deletable": true,
    "new_sheet": false,
    "run_control": {
     "read_only": false
    }
   },
   "outputs": [],
   "source": [
    "print(\"Call me Ishmael.\")"
   ]
  },
  {
   "cell_type": "code",
   "execution_count": null,
   "metadata": {
    "button": false,
    "collapsed": true,
    "deletable": true,
    "new_sheet": false,
    "run_control": {
     "read_only": false
    }
   },
   "outputs": [],
   "source": [
    "a = \"Call me\"\n",
    "b = 'Ishmael'"
   ]
  },
  {
   "cell_type": "code",
   "execution_count": null,
   "metadata": {
    "button": false,
    "collapsed": true,
    "deletable": true,
    "new_sheet": false,
    "run_control": {
     "read_only": false
    }
   },
   "outputs": [],
   "source": [
    "print(a+\" \"+b)\n",
    "print(a*3)"
   ]
  },
  {
   "cell_type": "code",
   "execution_count": null,
   "metadata": {
    "button": false,
    "collapsed": true,
    "deletable": true,
    "new_sheet": false,
    "run_control": {
     "read_only": false
    }
   },
   "outputs": [],
   "source": [
    "len(\"Call me Ishmael.\")"
   ]
  },
  {
   "cell_type": "markdown",
   "metadata": {
    "button": false,
    "deletable": true,
    "new_sheet": false,
    "run_control": {
     "read_only": false
    }
   },
   "source": [
    "#### Lists\n",
    "- Lists can be used to contain a sequence of values (or entities) of any type.\n",
    "- You can do operations on lists, but they are ordered (so you must do an operation to each item itteratively).\n",
    "- The list values start at 0 and that the first value of a list can be printed using `list[0]`.\n",
    "- Lists can be sliced or indexed using the start and end value `list[start:end]`\n",
    "- Lists are mutable datastructures, meaning that they can be changed (added to).\n",
    "- for vector algebra, use a numpy array.\n"
   ]
  },
  {
   "cell_type": "markdown",
   "metadata": {
    "button": false,
    "deletable": true,
    "new_sheet": false,
    "run_control": {
     "read_only": false
    }
   },
   "source": [
    "#### Tuples\n",
    "- Exactly like lists, but they are immutable -- they cannot be changed after assingnment!\n",
    "- Selectively useful in computational social science."
   ]
  },
  {
   "cell_type": "markdown",
   "metadata": {
    "button": false,
    "deletable": true,
    "new_sheet": false,
    "run_control": {
     "read_only": false
    }
   },
   "source": [
    "#### List examples"
   ]
  },
  {
   "cell_type": "code",
   "execution_count": null,
   "metadata": {
    "button": false,
    "collapsed": true,
    "deletable": true,
    "new_sheet": false,
    "run_control": {
     "read_only": false
    }
   },
   "outputs": [],
   "source": [
    "empty_list = []\n",
    "float_list = [1., 3., 5., 4., 2.]\n",
    "int_list = [1, 2, 3, 4, 5, 6, 7, 8, 9, 10]\n",
    "mixed_list = [1, 2., 3, 4., 5]\n",
    "string_list = ['a','b','c','d','e']\n",
    "print(empty_list)\n",
    "print(int_list)\n",
    "print(mixed_list, float_list)"
   ]
  },
  {
   "cell_type": "code",
   "execution_count": null,
   "metadata": {
    "button": false,
    "collapsed": true,
    "deletable": true,
    "new_sheet": false,
    "run_control": {
     "read_only": false
    }
   },
   "outputs": [],
   "source": [
    "print(int_list[0])\n",
    "print(int_list[1])"
   ]
  },
  {
   "cell_type": "code",
   "execution_count": null,
   "metadata": {
    "button": false,
    "collapsed": true,
    "deletable": true,
    "new_sheet": false,
    "run_control": {
     "read_only": false
    }
   },
   "outputs": [],
   "source": [
    "#IndexError is asking for the 11th item on a 10 item list.\n",
    "print(float_list[10])"
   ]
  },
  {
   "cell_type": "code",
   "execution_count": null,
   "metadata": {
    "button": false,
    "collapsed": true,
    "deletable": true,
    "new_sheet": false,
    "run_control": {
     "read_only": false
    }
   },
   "outputs": [],
   "source": [
    "string_list = ['a','b','c','d','e']\n",
    "\n",
    "print(string_list[0])  #select an individual item in a list (n.b. returns ITEM not a LIST!)\n",
    "print(string_list[0:2])#select between two items, returns list\n",
    "print(string_list[3:]) #select all after an item, returns list\n",
    "print(string_list[:3]) #selects before an item, returns list"
   ]
  },
  {
   "cell_type": "markdown",
   "metadata": {
    "button": false,
    "deletable": true,
    "new_sheet": false,
    "run_control": {
     "read_only": false
    }
   },
   "source": [
    "#### Sets\n",
    "\n",
    "- Lists can contain duplicate values.\n",
    "- A set, in contrast, contains no duplicates.\n",
    "- Sets can be created from lists using the set() function.\n",
    "- Alternatively we can write a set literal using the { and } brackets. (n.b. brackets are also dict constructor)\n",
    "- Sets are mutable like lists (meaning we can change them)\n",
    "- Duplicates are automatically removed\n",
    "- Sets do not have an order.\n",
    "- Therefore we cannot index or slice them.\n"
   ]
  },
  {
   "cell_type": "code",
   "execution_count": null,
   "metadata": {
    "button": false,
    "collapsed": true,
    "deletable": true,
    "new_sheet": false,
    "run_control": {
     "read_only": false
    }
   },
   "outputs": [],
   "source": [
    "X = {1, 2, 3, 4}\n",
    "X.add(0)\n",
    "X.add(5)\n",
    "print(X)\n",
    "X.add(5)\n",
    "print(X)"
   ]
  },
  {
   "cell_type": "code",
   "execution_count": null,
   "metadata": {
    "button": false,
    "collapsed": true,
    "deletable": true,
    "new_sheet": false,
    "run_control": {
     "read_only": false
    }
   },
   "outputs": [],
   "source": [
    "# n.b. sets have no index\n",
    "X[0]"
   ]
  },
  {
   "cell_type": "markdown",
   "metadata": {
    "button": false,
    "deletable": true,
    "new_sheet": false,
    "run_control": {
     "read_only": false
    }
   },
   "source": [
    "#### Dictionaries\n",
    "\n",
    "- Building on sets, which are a bit useless since we cannot index them, dictionaries associate a key with a value\n",
    "- Dictionaries can be specified with `{key: value, key: value}` as well as `dict([('key', value), ('key', value)])`\n",
    "- Key's and values can be either string or numeric.\n",
    "- Dictionaries are mutable, (can be changed) adict['g'] = 41\n",
    "- Extremely flexible, can hold anything, and it works well when written out to a json object (more on that next week).\n"
   ]
  },
  {
   "cell_type": "code",
   "execution_count": null,
   "metadata": {
    "button": false,
    "collapsed": true,
    "deletable": true,
    "new_sheet": false,
    "run_control": {
     "read_only": false
    }
   },
   "outputs": [],
   "source": [
    "dict1 = {'a' : 0, 'b' : 1, 'c' : 2}\n",
    "dict2 = dict([(1, 'a'), (2, 'b'), (3, 'c')])"
   ]
  },
  {
   "cell_type": "code",
   "execution_count": null,
   "metadata": {
    "button": false,
    "collapsed": true,
    "deletable": true,
    "new_sheet": false,
    "run_control": {
     "read_only": false
    }
   },
   "outputs": [],
   "source": [
    "print(dict1,dict2, '\\n', type(dict1),type(dict2), '\\n',dict1['b'],dict2[2])"
   ]
  },
  {
   "cell_type": "code",
   "execution_count": null,
   "metadata": {
    "button": false,
    "collapsed": true,
    "deletable": true,
    "new_sheet": false,
    "run_control": {
     "read_only": false
    }
   },
   "outputs": [],
   "source": [
    "dict1.values()"
   ]
  },
  {
   "cell_type": "code",
   "execution_count": null,
   "metadata": {
    "button": false,
    "collapsed": true,
    "deletable": true,
    "new_sheet": false,
    "run_control": {
     "read_only": false
    }
   },
   "outputs": [],
   "source": [
    "dict1.items()"
   ]
  },
  {
   "cell_type": "code",
   "execution_count": null,
   "metadata": {
    "button": false,
    "collapsed": true,
    "deletable": true,
    "new_sheet": false,
    "run_control": {
     "read_only": false
    }
   },
   "outputs": [],
   "source": [
    "#dictionaries are also indexed\n",
    "for item in dict1.items():\n",
    "    print(item)"
   ]
  },
  {
   "cell_type": "markdown",
   "metadata": {
    "button": false,
    "deletable": true,
    "new_sheet": false,
    "run_control": {
     "read_only": false
    }
   },
   "source": [
    "***"
   ]
  },
  {
   "cell_type": "markdown",
   "metadata": {
    "button": false,
    "deletable": true,
    "new_sheet": false,
    "run_control": {
     "read_only": false
    }
   },
   "source": [
    "<a id='lists_and_loops'></a>"
   ]
  },
  {
   "cell_type": "markdown",
   "metadata": {
    "button": false,
    "deletable": true,
    "new_sheet": false,
    "run_control": {
     "read_only": false
    }
   },
   "source": [
    "<font color=darkblue>\n",
    "\n",
    "### 7.) Loops and list comprehensions"
   ]
  },
  {
   "cell_type": "code",
   "execution_count": null,
   "metadata": {
    "button": false,
    "collapsed": true,
    "deletable": true,
    "new_sheet": false,
    "run_control": {
     "read_only": false
    }
   },
   "outputs": [],
   "source": [
    "ishmael = 'Call me Ishmael. Some years ago--never mind how long precisely--having little or no money in my purse, \\\\\n",
    "and nothing particular to interest me on shore, I thought I would sail about a little and see the \\\\\n",
    "watery part of the world.'"
   ]
  },
  {
   "cell_type": "code",
   "execution_count": null,
   "metadata": {
    "button": false,
    "collapsed": true,
    "deletable": true,
    "new_sheet": false,
    "run_control": {
     "read_only": false
    }
   },
   "outputs": [],
   "source": [
    "# FOOR LOOP\n",
    "# for [entity] in [iterable]:\n",
    "#   do_something_to [entity]\n",
    "for c in ishmael[:15]:\n",
    "    print(c)"
   ]
  },
  {
   "cell_type": "code",
   "execution_count": null,
   "metadata": {
    "button": false,
    "collapsed": true,
    "deletable": true,
    "new_sheet": false,
    "run_control": {
     "read_only": false
    }
   },
   "outputs": [],
   "source": [
    "# WHILE LOOP\n",
    "# start a counter\n",
    "i = 0\n",
    "# while the counter condition is not met, the code executes.\n",
    "while i < len(ishmael[:15]):\n",
    "    #print character in a string\n",
    "    print(ishmael[:15][i])\n",
    "    #increment up the counter\n",
    "    i = i + 1"
   ]
  },
  {
   "cell_type": "markdown",
   "metadata": {
    "button": false,
    "deletable": true,
    "new_sheet": false,
    "run_control": {
     "read_only": false
    }
   },
   "source": [
    "<font color=red>\n",
    "\n",
    "#### Exercise\n",
    "\n",
    "What would happen if we removed the counter above?"
   ]
  },
  {
   "cell_type": "raw",
   "metadata": {
    "button": false,
    "deletable": true,
    "new_sheet": false,
    "run_control": {
     "read_only": false
    }
   },
   "source": [
    "#(Use the 'Interrupt' command under the kernel window).\n",
    "\n",
    "# start a counter\n",
    "i = 0\n",
    "# while the counter is less than the string\n",
    "while i < len(ishmael[:15]):\n",
    "    #print character in a string\n",
    "    print(ishmael[:15][i])\n",
    "    #increment up the counter\n",
    "    #i = i + 1"
   ]
  },
  {
   "cell_type": "code",
   "execution_count": null,
   "metadata": {
    "button": false,
    "collapsed": true,
    "deletable": true,
    "new_sheet": false,
    "run_control": {
     "read_only": false
    }
   },
   "outputs": [],
   "source": [
    "#selecting first 15 characters and print\n",
    "words_list = []\n",
    "# more on these string commands next week, but here we are saying 'for each word in ishmael[], split on blank spaces, append those words ot a blank list\n",
    "for word in ishmael.split()[:3]:\n",
    "    words_list.append(word)\n",
    "\n",
    "print(words_list)"
   ]
  },
  {
   "cell_type": "markdown",
   "metadata": {
    "button": false,
    "deletable": true,
    "new_sheet": false,
    "run_control": {
     "read_only": false
    }
   },
   "source": [
    "**Loops work off of any iterator**\n",
    "\n",
    "What is an iterator? Very simply, it's a think that Python can 'chunk' through. One type of error you might encounter if you are doing for-loops is that the computer won't know what the next step is -- you have to give it an object that has an index to it, that is, an object with a first element, a second, a third, a nth etc. `enumerate` is a command that transforms most objects into an enumerated list of entities with an index."
   ]
  },
  {
   "cell_type": "code",
   "execution_count": null,
   "metadata": {
    "button": false,
    "collapsed": true,
    "deletable": true,
    "new_sheet": false,
    "run_control": {
     "read_only": false
    }
   },
   "outputs": [],
   "source": [
    "ishmael_iterator = enumerate(ishmael[:15])\n",
    "\n",
    "for index, char in ishmael_iterator:\n",
    "    print(index,' ',char)"
   ]
  },
  {
   "cell_type": "markdown",
   "metadata": {
    "button": false,
    "deletable": true,
    "new_sheet": false,
    "run_control": {
     "read_only": false
    }
   },
   "source": [
    "#### List comprehensions\n",
    "\n",
    "- A compact for-loop, useful for programming in complex operations. Let's say you have a for-loop marching through a list of web pages scraping data. Perhaps it's more computationally efficient to clean the data *as it comes in* as opposed to getting all the data first and then cleaning it. A single list comprehension would allow you to define a single line of code to do just that.\n",
    "- Also great for a simple filtering exercise too."
   ]
  },
  {
   "cell_type": "code",
   "execution_count": null,
   "metadata": {
    "button": false,
    "collapsed": true,
    "deletable": true,
    "new_sheet": false,
    "run_control": {
     "read_only": false
    }
   },
   "outputs": [],
   "source": [
    "#list comprehensions are a shortened form of a for-loop\n",
    "[word for word in ishmael.split()[:3]]"
   ]
  },
  {
   "cell_type": "raw",
   "metadata": {
    "button": false,
    "deletable": true,
    "new_sheet": false,
    "run_control": {
     "read_only": false
    }
   },
   "source": [
    "[OUTPUT for ELEMENT in LIST]"
   ]
  },
  {
   "cell_type": "code",
   "execution_count": null,
   "metadata": {
    "button": false,
    "collapsed": true,
    "deletable": true,
    "new_sheet": false,
    "run_control": {
     "read_only": false
    }
   },
   "outputs": [],
   "source": [
    "# start with a list of integers\n",
    "int_list = [0,1,3,4,16,32,64,128,256,512,725,1024,2048,2500]"
   ]
  },
  {
   "cell_type": "code",
   "execution_count": null,
   "metadata": {
    "button": false,
    "collapsed": true,
    "deletable": true,
    "new_sheet": false,
    "run_control": {
     "read_only": false
    }
   },
   "outputs": [],
   "source": [
    "for number in int_list:\n",
    "    print('Mumber:',number,'and that number squared:',number*number)"
   ]
  },
  {
   "cell_type": "markdown",
   "metadata": {
    "button": false,
    "deletable": true,
    "new_sheet": false,
    "run_control": {
     "read_only": false
    }
   },
   "source": [
    "for ELE in LIST:\n",
    "    CONDITIONAL:\n",
    "        operation(ELE)\n",
    "        \n",
    "[operation(ELE) for ELE in LIST if CONDITIONAL]"
   ]
  },
  {
   "cell_type": "code",
   "execution_count": null,
   "metadata": {
    "button": false,
    "collapsed": true,
    "deletable": true,
    "new_sheet": false,
    "run_control": {
     "read_only": false
    }
   },
   "outputs": [],
   "source": [
    "[number*number for number in int_list]"
   ]
  },
  {
   "cell_type": "code",
   "execution_count": null,
   "metadata": {
    "button": false,
    "collapsed": true,
    "deletable": true,
    "new_sheet": false,
    "run_control": {
     "read_only": false
    }
   },
   "outputs": [],
   "source": [
    "squaredlist = [number*number for number in int_list]"
   ]
  },
  {
   "cell_type": "code",
   "execution_count": null,
   "metadata": {
    "button": false,
    "collapsed": true,
    "deletable": true,
    "new_sheet": false,
    "run_control": {
     "read_only": false
    }
   },
   "outputs": [],
   "source": [
    "# multiple by 2 for number if number is even\n",
    "[number for number in squaredlist if number % 2 == 0]"
   ]
  },
  {
   "cell_type": "markdown",
   "metadata": {
    "button": false,
    "deletable": true,
    "new_sheet": false,
    "run_control": {
     "read_only": false
    }
   },
   "source": [
    "***"
   ]
  },
  {
   "cell_type": "markdown",
   "metadata": {
    "button": false,
    "deletable": true,
    "new_sheet": false,
    "run_control": {
     "read_only": false
    }
   },
   "source": [
    "<a id='jup_notebooks'></a>"
   ]
  },
  {
   "cell_type": "markdown",
   "metadata": {
    "button": false,
    "deletable": true,
    "new_sheet": false,
    "run_control": {
     "read_only": false
    }
   },
   "source": [
    "<font color=darkblue>\n",
    "\n",
    "### 8.) Functions\n",
    "\n",
    "<font color=black>\n",
    "\n",
    "- Useful to create a series of functions at the beginning of data wrangling / break down code into understandable chunks.\n",
    "- Can have both default and completely user-driven input."
   ]
  },
  {
   "cell_type": "code",
   "execution_count": null,
   "metadata": {
    "button": false,
    "collapsed": true,
    "deletable": true,
    "new_sheet": false,
    "run_control": {
     "read_only": false
    }
   },
   "outputs": [],
   "source": [
    "def name_of_function(arg):\n",
    "    '''\n",
    "    Describe what function does\n",
    "    Specify input and output\n",
    "    \n",
    "    List data types, e.g. String --> Float   \n",
    "    \n",
    "    '''\n",
    "    \n",
    "    ...\n",
    "    \n",
    "    \n",
    "    return(output)"
   ]
  },
  {
   "cell_type": "code",
   "execution_count": null,
   "metadata": {
    "button": false,
    "collapsed": true,
    "deletable": true,
    "new_sheet": false,
    "run_control": {
     "read_only": false
    }
   },
   "outputs": [],
   "source": [
    "def square(x):\n",
    "    '''\n",
    "    Squares inputted number\n",
    "    \n",
    "    Float --> Float\n",
    "    '''\n",
    "    x_sqr = x*x\n",
    "    return(x_sqr)\n",
    "\n",
    "def cube(x):\n",
    "    '''\n",
    "    Cubes inputted number\n",
    "    \n",
    "    Floast --> Float\n",
    "    '''\n",
    "    x_cub = x*x*x\n",
    "    return(x_cub)\n",
    "\n",
    "square(5),cube(5)"
   ]
  },
  {
   "cell_type": "markdown",
   "metadata": {
    "button": false,
    "deletable": true,
    "new_sheet": false,
    "run_control": {
     "read_only": false
    }
   },
   "source": [
    "<font color=darkblue>\n",
    "\n",
    "### Lambda functions\n",
    "\n",
    "- The spiritual equivalent of list comprehensions, lambda functions are 'single use' functions defined in a single line.\n",
    "- Useful for clarity in code.\n",
    "\n",
    "Synatx:\n",
    "`lambda arg, arg2,... arg_n : <inline expression using args>`"
   ]
  },
  {
   "cell_type": "code",
   "execution_count": null,
   "metadata": {
    "button": false,
    "collapsed": true,
    "deletable": true,
    "new_sheet": false,
    "run_control": {
     "read_only": false
    }
   },
   "outputs": [],
   "source": [
    "lambda_square = lambda n: n*n\n",
    "lambda_square(5)"
   ]
  },
  {
   "cell_type": "markdown",
   "metadata": {
    "button": false,
    "deletable": true,
    "new_sheet": false,
    "run_control": {
     "read_only": false
    }
   },
   "source": [
    "We can use anonymous functions in combination with other built-in functions like map (applies function to a list), filter (filters from a list for which function returns a true output, reduce (applies a function to a rolling list of entities)."
   ]
  },
  {
   "cell_type": "code",
   "execution_count": null,
   "metadata": {
    "button": false,
    "collapsed": true,
    "deletable": true,
    "new_sheet": false,
    "run_control": {
     "read_only": false
    }
   },
   "outputs": [],
   "source": [
    "# map: apply this function to each item in this list\n",
    "map_out = map(lambda_square, [1, 2, 3, 4, 5])"
   ]
  },
  {
   "cell_type": "code",
   "execution_count": null,
   "metadata": {
    "button": false,
    "collapsed": true,
    "deletable": true,
    "new_sheet": false,
    "run_control": {
     "read_only": false
    }
   },
   "outputs": [],
   "source": [
    "#map and filter objects are created so you have to use list to actually get the values out.\n",
    "list(map_out)"
   ]
  },
  {
   "cell_type": "code",
   "execution_count": null,
   "metadata": {
    "button": false,
    "collapsed": true,
    "deletable": true,
    "new_sheet": false,
    "run_control": {
     "read_only": false
    }
   },
   "outputs": [],
   "source": [
    "# return entities for which the function returns T in this list\n",
    "lambda_evens = lambda n: n%2 == 0\n",
    "filter_out = filter(lambda_evens, [1, 2, 3, 4, 5, 6, 7, 8, 9, 10])"
   ]
  },
  {
   "cell_type": "code",
   "execution_count": null,
   "metadata": {
    "button": false,
    "collapsed": true,
    "deletable": true,
    "new_sheet": false,
    "run_control": {
     "read_only": false
    }
   },
   "outputs": [],
   "source": [
    "list(filter_out)"
   ]
  },
  {
   "cell_type": "code",
   "execution_count": null,
   "metadata": {
    "button": false,
    "collapsed": true,
    "deletable": true,
    "new_sheet": false,
    "run_control": {
     "read_only": false
    }
   },
   "outputs": [],
   "source": [
    "# this is no longer default loaded in 3.6, so we have to pull it in.\n",
    "from functools import reduce\n",
    "\n",
    "# apply function to each item in sequence up, i.e 1+2+3+4+5\n",
    "lambda_sum = lambda x, y: x + y\n",
    "reduce(lambda_sum, [1, 2, 3, 4, 5])"
   ]
  },
  {
   "cell_type": "markdown",
   "metadata": {
    "button": false,
    "deletable": true,
    "new_sheet": false,
    "run_control": {
     "read_only": false
    }
   },
   "source": [
    "<a id='control_flow'></a>"
   ]
  },
  {
   "cell_type": "markdown",
   "metadata": {
    "button": false,
    "deletable": true,
    "new_sheet": false,
    "run_control": {
     "read_only": false
    }
   },
   "source": [
    "<font color=darkblue>\n",
    "\n",
    "### Control flow\n",
    "\n",
    "<font color=black>\n",
    "\n",
    "- 'if' : meets conditional\n",
    "- 'elif' : (\"else if\") builds on previous if or elif\n",
    "- 'else' : do something else\n",
    "- 'return' : exits the function and returns that to caller."
   ]
  },
  {
   "cell_type": "markdown",
   "metadata": {
    "button": false,
    "deletable": true,
    "new_sheet": false,
    "run_control": {
     "read_only": false
    }
   },
   "source": [
    "***"
   ]
  },
  {
   "cell_type": "markdown",
   "metadata": {
    "button": false,
    "deletable": true,
    "new_sheet": false,
    "run_control": {
     "read_only": false
    }
   },
   "source": [
    "<font color=darkred>\n",
    "\n",
    "### Exercise: Fizz Buzz\n",
    "\n",
    "<font color=black>\n",
    "Automate this great drinking game: count up, but on every multiple of three, say 'fuzz' instead of the number and for every multiple of 5, 'buzz.' For both, say \"fuzz-buzz.\" Do this up to 50\n",
    "\n",
    "For instance, counting around in a cirlce: \"1, 2, ~~3~~ fizz, 4, ~~5~~ buzz, ~~6~~  fizz, 7, 8, ~~9~~ fizz, ~~10~~ buzz, 11, ~~12~~  fuzz, 13, 14, ~~15~~ fuzz-buzz.\""
   ]
  },
  {
   "cell_type": "code",
   "execution_count": null,
   "metadata": {
    "button": false,
    "collapsed": true,
    "deletable": true,
    "new_sheet": false,
    "run_control": {
     "read_only": false
    }
   },
   "outputs": [],
   "source": [
    "for i in range (1,20):\n",
    "    if i % 3 == 0 and i % 5 ==0:\n",
    "        print('FizzBuzz')\n",
    "    elif i % 3 == 0:\n",
    "        print('Fizz')\n",
    "    elif i % 5 == 0:\n",
    "        print('Buzz')\n",
    "    else:\n",
    "        print(i)"
   ]
  },
  {
   "cell_type": "markdown",
   "metadata": {
    "button": false,
    "deletable": true,
    "new_sheet": false,
    "run_control": {
     "read_only": false
    }
   },
   "source": [
    "***"
   ]
  },
  {
   "cell_type": "markdown",
   "metadata": {
    "button": false,
    "deletable": true,
    "new_sheet": false,
    "run_control": {
     "read_only": false
    }
   },
   "source": [
    "<font color=darkred>\n",
    "\n",
    "## Class Exercise / HW1\n",
    "\n",
    "<font color=black>\n",
    "\n",
    "1. Write a for-loop that counts up from 0 to 100 and prints all prime numbers.\n",
    "\n",
    "2. Write a function called `isprime` that takes in a positive integer $n$, and determines whether or not it is prime.  Return the $n$ if it's prime and return nothing if it isn't.\n",
    "\n",
    "3. Using a list-comprehension and `isprime`, create a list `primes_to_100` that contains all the prime numbers less than 100. "
   ]
  },
  {
   "cell_type": "markdown",
   "metadata": {
    "button": false,
    "deletable": true,
    "new_sheet": false,
    "run_control": {
     "read_only": false
    }
   },
   "source": [
    "***"
   ]
  },
  {
   "cell_type": "markdown",
   "metadata": {
    "button": false,
    "deletable": true,
    "new_sheet": false,
    "run_control": {
     "read_only": false
    }
   },
   "source": [
    "Start with the simplest situation: how do we determine if a single number is a prime? Well the definition of a prime is a natural number greater than 1 whose only whole-number factors are 1 and itself, i.e. it has no other divisors. 2, 3, 5, 7, 11, 13, 17, 19...."
   ]
  },
  {
   "cell_type": "markdown",
   "metadata": {
    "button": false,
    "deletable": true,
    "new_sheet": false,
    "run_control": {
     "read_only": false
    }
   },
   "source": [
    "<font color=darkgreen>\n",
    "\n",
    "Hint: think of a computer as like a dumb child (or undergrad RA) who you are forcing to do repetive tasks over and over again. What thing would you make the machine do over and over again to check if something is prime?"
   ]
  },
  {
   "cell_type": "code",
   "execution_count": null,
   "metadata": {
    "button": false,
    "collapsed": true,
    "deletable": true,
    "new_sheet": false,
    "run_control": {
     "read_only": false
    }
   },
   "outputs": [],
   "source": []
  },
  {
   "cell_type": "code",
   "execution_count": null,
   "metadata": {
    "button": false,
    "collapsed": true,
    "deletable": true,
    "new_sheet": false,
    "run_control": {
     "read_only": false
    }
   },
   "outputs": [],
   "source": []
  },
  {
   "cell_type": "code",
   "execution_count": null,
   "metadata": {
    "button": false,
    "collapsed": true,
    "deletable": true,
    "new_sheet": false,
    "run_control": {
     "read_only": false
    }
   },
   "outputs": [],
   "source": []
  }
 ],
 "metadata": {
  "kernelspec": {
   "display_name": "Python 3",
   "language": "python",
   "name": "python3"
  },
  "language_info": {
   "codemirror_mode": {
    "name": "ipython",
    "version": 3
   },
   "file_extension": ".py",
   "mimetype": "text/x-python",
   "name": "python",
   "nbconvert_exporter": "python",
   "pygments_lexer": "ipython3",
   "version": "3.5.0"
  }
 },
 "nbformat": 4,
 "nbformat_minor": 2
}
