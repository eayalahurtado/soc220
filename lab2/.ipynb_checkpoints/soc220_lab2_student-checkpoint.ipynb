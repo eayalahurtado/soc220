{
 "cells": [
  {
   "cell_type": "markdown",
   "metadata": {},
   "source": [
    "<font color=darkred>\n",
    "\n",
    "# Soc220: Computational Text Analysis\n",
    "## Lab2: Webscraping With Beautiful Soup\n",
    "\n",
    "<br>\n",
    "\n",
    "![pip](https://www.pcs.org/assets/uploads/GE_Illustration_Large750.jpg)\n",
    "\n",
    "***\n",
    "    2/1/2018\n",
    "    (Image: Pip and Magwitch)"
   ]
  },
  {
   "cell_type": "markdown",
   "metadata": {},
   "source": [
    "# Solutions to homework:"
   ]
  },
  {
   "cell_type": "code",
   "execution_count": 43,
   "metadata": {
    "scrolled": true
   },
   "outputs": [
    {
     "name": "stdout",
     "output_type": "stream",
     "text": [
      "2\n",
      "3\n",
      "5\n",
      "7\n",
      "11\n",
      "13\n",
      "17\n",
      "19\n",
      "23\n",
      "29\n",
      "31\n",
      "37\n",
      "41\n",
      "43\n",
      "47\n",
      "53\n",
      "59\n",
      "61\n",
      "67\n",
      "71\n",
      "73\n",
      "79\n",
      "83\n",
      "89\n",
      "97\n"
     ]
    }
   ],
   "source": [
    "primes = []\n",
    "for j in range(2,101):\n",
    "    #count up to each number\n",
    "    for i in range(2,j):\n",
    "        #check if there are any numbers that can divide\n",
    "        if j % i == 0:\n",
    "            #and if there are, stop\n",
    "            break\n",
    "    else:\n",
    "        #since not, print\n",
    "        primes.append(j)\n",
    "        print(j)       "
   ]
  },
  {
   "cell_type": "code",
   "execution_count": 44,
   "metadata": {
    "collapsed": true
   },
   "outputs": [],
   "source": [
    "def isprime(j):\n",
    "    '''\n",
    "    Takes in a positive number and checks whether it is prime. Returns number if prime.\n",
    "    \n",
    "    Int -> Int\n",
    "    '''\n",
    "    for i in range(2,j):\n",
    "        if j % i == 0:\n",
    "            break     \n",
    "    else:\n",
    "        return(j)"
   ]
  },
  {
   "cell_type": "code",
   "execution_count": 45,
   "metadata": {},
   "outputs": [
    {
     "data": {
      "text/plain": [
       "19"
      ]
     },
     "execution_count": 45,
     "metadata": {},
     "output_type": "execute_result"
    }
   ],
   "source": [
    "isprime(19)"
   ]
  },
  {
   "cell_type": "code",
   "execution_count": 46,
   "metadata": {},
   "outputs": [],
   "source": [
    "isprime(21)"
   ]
  },
  {
   "cell_type": "code",
   "execution_count": 47,
   "metadata": {},
   "outputs": [
    {
     "data": {
      "text/plain": [
       "19"
      ]
     },
     "execution_count": 47,
     "metadata": {},
     "output_type": "execute_result"
    }
   ],
   "source": [
    "isprime(19)"
   ]
  },
  {
   "cell_type": "code",
   "execution_count": 48,
   "metadata": {
    "scrolled": false
   },
   "outputs": [
    {
     "data": {
      "text/plain": [
       "[1,\n",
       " 2,\n",
       " 3,\n",
       " 5,\n",
       " 7,\n",
       " 11,\n",
       " 13,\n",
       " 17,\n",
       " 19,\n",
       " 23,\n",
       " 29,\n",
       " 31,\n",
       " 37,\n",
       " 41,\n",
       " 43,\n",
       " 47,\n",
       " 53,\n",
       " 59,\n",
       " 61,\n",
       " 67,\n",
       " 71,\n",
       " 73,\n",
       " 79,\n",
       " 83,\n",
       " 89,\n",
       " 97]"
      ]
     },
     "execution_count": 48,
     "metadata": {},
     "output_type": "execute_result"
    }
   ],
   "source": [
    "primes_to_100 = [k for k in range(1, 100) if isprime(k)]\n",
    "primes_to_100"
   ]
  },
  {
   "cell_type": "markdown",
   "metadata": {},
   "source": [
    "***\n",
    "***\n",
    "\n",
    "Today we're going to scrape some data from the court records from the Old Bailey, the criminal court of London from the mid-17th century up until WW1. Thanks to the British National Library, every single criminal proceeding (transcripts, charges, verdict sentences etc) are freely accesible online. This week, we'll scrape from the front-end of the website, that is, we'll write some code to automatically load a webpage, find some content, and then save it. \n",
    "\n",
    "A few notes on webscraping:\n",
    "- This is an exremely flexible way to collect data. If you can view it in a browser, then it's possible, with enough patience, to get that data.\n",
    "- However, the way we teach a computer to get these data is to look through the HTML code for specific tags, which means that if the web-developer for a given website decides to make a slight change in that coding or if they themselves screwed-up or if the code is a bit inconsistent, then you can be SOL in getting data. Possibly creating bias in your collection process!\n",
    "- In addition, we'll probably have to use 'regular expressions' which is a very old-school coding language all unto itself for parsing strings. We'll use this to sort through the types of text that we want which are held within specific HTML tags.\n",
    "\n",
    "The new [firefox browser](https://www.mozilla.org/en-US/firefox/) is great for viewing html code on a website."
   ]
  },
  {
   "cell_type": "code",
   "execution_count": 49,
   "metadata": {
    "collapsed": true
   },
   "outputs": [],
   "source": [
    "# First, we load libraries: \n",
    "######\n",
    "\n",
    "import re\n",
    "import requests\n",
    "from urllib.request import urlopen\n",
    "\n",
    "from bs4 import BeautifulSoup\n",
    "import pickle\n",
    "import json\n",
    "import os"
   ]
  },
  {
   "cell_type": "markdown",
   "metadata": {},
   "source": [
    "\n",
    "\n",
    "\n",
    "![obo_online](obo_online.png)\n",
    "\n",
    "\n",
    "***\n",
    "<font color=darkgreen>\n",
    "    \n",
    "Charles Dickens was once a court reporter at the Old Bailey and witnessing this case was the inspiration for the character of Magwitch, the plot twist of Great Expectations.\n",
    "\n",
    "\n",
    "[Persecution of Thomas Knight](https://www.oldbaileyonline.org/browse.jsp?id=t18331017-6-off35&div=t18331017-6)\n",
    "\n",
    "![knight](knight.png)"
   ]
  },
  {
   "cell_type": "markdown",
   "metadata": {},
   "source": [
    "<font color=darkred>\n",
    "\n",
    "## General strategy:\n",
    "\n",
    "1. Find a list of links, each of which contains some text that we are looking for. In other contexts, this could be a list of speeches, a list of press releases, a list of publications, a list of novels even -- basically anything.\n",
    "2. Identify a regular expression or HTML code tag that on each of those pages gives us the text in question that we want.\n",
    "3. Extract that text, pause for a moment (n.b. ALWAYS have a built-in pause in order to not alarm website admins. For those of you who decide to become black-hat hackers, this automated-request of a website is identical to what a DDOS is), then move on to the next page and rinse and repeat.\n",
    "4. We'll also want to include error code expections so that if one page has some issue with it (null value for instance), we don't want the entire scrape to end, especially if we are planning to scrape over the course of 10 to 12 hours. We will wish to record that fact as well."
   ]
  },
  {
   "cell_type": "markdown",
   "metadata": {},
   "source": [
    "<font color=darkgreen>\n",
    "    \n",
    "### Step 1: Figuring out the text data we want.\n",
    "\n",
    "Here I wish to see all cases which involved Britons who were exiled (and then came back).\n",
    "\n",
    "\n",
    "\n",
    "Next week, we'll use the full API. And we'll also discuss going to 'private' web pages.\n",
    "\n",
    "https://www.oldbaileyonline.org/forms/formCustom.jsp\n",
    "\n",
    "'The boxes below allow you to search the whole of the Proceedings and all published Ordinary of Newgate's Accounts (for the period from 1679 to 1772)'\n",
    "\n",
    "Search for those tried for 'returning from transportation' (same sentence as Magwitch):\n",
    "\n",
    "https://www.oldbaileyonline.org/search.jsp?gen=1&form=searchHomePage&_offences_offenceCategory_offenceSubcategory=miscellaneous_returnFromTransportation&start=0&count=0\n",
    "\n",
    "So, from this angle, we'll get a piece of what we want, but next week, with APIs, we'll dig a little deeper.\n",
    "\n",
    "Let's start with this case, someone convicted of stealing a handkerchief:\n",
    "\n",
    "https://www.oldbaileyonline.org/browse.jsp?id=t17940115-36-off187&div=t17940115-36"
   ]
  },
  {
   "cell_type": "code",
   "execution_count": 50,
   "metadata": {},
   "outputs": [
    {
     "data": {
      "text/plain": [
       "200"
      ]
     },
     "execution_count": 50,
     "metadata": {},
     "output_type": "execute_result"
    }
   ],
   "source": [
    "# we first take the URL \n",
    "url = \"https://www.oldbaileyonline.org/browse.jsp?id=t17940115-36-off187&div=t17940115-36\"\n",
    "# and then we request it, as if we are loading an indiviudal web page.\n",
    "req = requests.get(url,timeout=20) #always include a delay!\n",
    "#For those curious,the actual code for a DDoS attack is pretty similar to page request.\n",
    "req.status_code #200 means we have gotten it correctly"
   ]
  },
  {
   "cell_type": "code",
   "execution_count": 51,
   "metadata": {
    "scrolled": true
   },
   "outputs": [
    {
     "name": "stdout",
     "output_type": "stream",
     "text": [
      "       About The Proceedings\n",
      "        </a>\n",
      "       </li>\n",
      "       <li>\n",
      "        <a href=\"static/History.jsp\">\n",
      "         Historical Background\n",
      "        </a>\n",
      "       </li>\n",
      "       <li>\n",
      "        <a href=\"static/API.jsp\">\n",
      "         API\n",
      "        </a>\n",
      "       </li>\n",
      "       <li>\n",
      "        <a href=\"static/Project.jsp\">\n",
      "         The Project\n",
      "        </a>\n",
      "       </li>\n",
      "       <!--<li><a href=\"http://www.hrionline.ac.uk/obp-wiki/index.php/Main_Page\">User Wiki</a></li\n",
      ">-->\n",
      "       <li class=\"last\">\n",
      "        <a href=\"static/Con\n"
     ]
    }
   ],
   "source": [
    "req.html = req.text #extract the text from the request\n",
    "soup = BeautifulSoup(req.html,\"html.parser\") #parse the text so the computer can read the html tags\n",
    "print(soup.prettify()[2500:3000]) #print out what the soup looks like"
   ]
  },
  {
   "cell_type": "markdown",
   "metadata": {},
   "source": [
    "![html_code_structure](http://www.openbookproject.net/tutorials/getdown/css/images/lesson4/HTMLDOMTree.png)\n",
    "\n",
    "<font color=darkgreen>\n",
    "    \n",
    "**Essentially what we're doing is looking for that last row down here, in order to find the relevant text.**"
   ]
  },
  {
   "cell_type": "raw",
   "metadata": {},
   "source": [
    "![html_dom](http://www.cs.toronto.edu/~shiva/cscb07/img/dom/treeStructure.png)"
   ]
  },
  {
   "cell_type": "markdown",
   "metadata": {},
   "source": [
    "<font color=darkgreen>\n",
    "\n",
    "### **Html code structure**\n",
    "\n",
    "- Upon request, HTML is parsed into DOM (DOcument Object Model)\n",
    "- All content we want is generally at bottom of this tree.\n",
    "- The 'art' / frustrating part of webscrapping is identifying what piece of the treet to navigate down.\n",
    "- The breakpoints for a webscrape are when this tree has some inconsistency (null data or things are structured differently.\n",
    "- So again, if you can view it in a browser, then you can scrape it. If there's any break in this structure, then your code is going to fail b/c it relies on this structure to navigate for data.\n",
    "\n",
    "\n",
    "### Navigating this structure:\n",
    "\n",
    "https://www.crummy.com/software/BeautifulSoup/bs4/doc/#navigating-the-tree\n",
    "\n",
    "1. Find a given tag\n",
    "2. Find a tag and ask for its children\n",
    "3. Find a tag and ask for parents\n",
    "4. Ask for siblings (navigate sideways)\n",
    "\n",
    "Otherwise:\n",
    "\n",
    "1. Search for an expression `soup.find_all('b')`\n",
    "2. Search using a regular expression. `re.compile(\"t\")`"
   ]
  },
  {
   "cell_type": "markdown",
   "metadata": {},
   "source": [
    "<font color=darkgreen>\n",
    "\n",
    "### Regular expressions\n",
    "\n",
    "- Functionally, another distinct language\n",
    "- Raw method of parsing strings\n",
    "\n",
    "Regular expression cheat sheet:\n",
    "\n",
    "https://regexr.com\n",
    "\n",
    "Datacamp tutorial:\n",
    "\n",
    "https://www.datacamp.com/community/tutorials/python-regular-expression-tutorial\n",
    "\n",
    "Python docs:\n",
    "\n",
    "https://docs.python.org/2/library/re.html\n",
    "\n",
    "Table:\n",
    "\n",
    "| Expression | Search                         |\n",
    "|------------|--------------------------------|\n",
    "| \\d         | Any Digit                      |\n",
    "| \\D         | Any Non-digit character        |\n",
    "| .          | Any Character                  |\n",
    "| \\.         | Period                         |\n",
    "| [abc]      | Only a, b, or c                |\n",
    "| [^abc]     | Not a, b, nor c                |\n",
    "| [a-z]      | Characters a to z              |\n",
    "| [0-9]      | Numbers 0 to 9                 |\n",
    "| \\w         | Any Alphanumeric character     |\n",
    "| \\W         | Any Non-alphanumeric character |\n",
    "| {m}        | m Repetitions                  |\n",
    "| {m,n}      | m to n Repetitions             |\n",
    "| *          | Zero or more repetitions       |\n",
    "| +          | One or more repetitions        |\n",
    "| ?          | \"zero or one occurrences of the preceding element.\"              |\n",
    "| \\s         | Any Whitespace                 |\n",
    "| \\S         | Any Non-whitespace character   |\n",
    "| ^…$        | Starts and ends                |\n",
    "| (a(bc))    | Capture Sub-group              |\n",
    "\n",
    "https://github.com/zeeshanu/learn-regex"
   ]
  },
  {
   "cell_type": "code",
   "execution_count": 52,
   "metadata": {},
   "outputs": [
    {
     "data": {
      "text/html": [
       "<div>\n",
       "<style>\n",
       "    .dataframe thead tr:only-child th {\n",
       "        text-align: right;\n",
       "    }\n",
       "\n",
       "    .dataframe thead th {\n",
       "        text-align: left;\n",
       "    }\n",
       "\n",
       "    .dataframe tbody tr th {\n",
       "        vertical-align: top;\n",
       "    }\n",
       "</style>\n",
       "<table border=\"1\" class=\"dataframe\">\n",
       "  <thead>\n",
       "    <tr style=\"text-align: right;\">\n",
       "      <th></th>\n",
       "      <th>text</th>\n",
       "    </tr>\n",
       "  </thead>\n",
       "  <tbody>\n",
       "    <tr>\n",
       "      <th>0</th>\n",
       "      <td>Monday: Homework is due at 11:59am</td>\n",
       "    </tr>\n",
       "    <tr>\n",
       "      <th>1</th>\n",
       "      <td>Wednesday: Class is at 2:00pm. Review papers!</td>\n",
       "    </tr>\n",
       "    <tr>\n",
       "      <th>2</th>\n",
       "      <td>Thursday: Lab is at 5:00pm</td>\n",
       "    </tr>\n",
       "  </tbody>\n",
       "</table>\n",
       "</div>"
      ],
      "text/plain": [
       "                                            text\n",
       "0             Monday: Homework is due at 11:59am\n",
       "1  Wednesday: Class is at 2:00pm. Review papers!\n",
       "2                     Thursday: Lab is at 5:00pm"
      ]
     },
     "execution_count": 52,
     "metadata": {},
     "output_type": "execute_result"
    }
   ],
   "source": [
    "import pandas as pd\n",
    "\n",
    "#Let's imagine we have a series of webpages with this text on it, a bit of \n",
    "#the Captain Ahab's final words\n",
    "\n",
    "class_sentences = [\"Monday: Homework is due at 11:59am\",\n",
    "                  \"Wednesday: Class is at 2:00pm. Review papers!\",\n",
    "                  \"Thursday: Lab is at 5:00pm\"]\n",
    "\n",
    "df = pd.DataFrame(class_sentences, columns=['text'])\n",
    "df"
   ]
  },
  {
   "cell_type": "code",
   "execution_count": 53,
   "metadata": {},
   "outputs": [
    {
     "data": {
      "text/plain": [
       "0    34\n",
       "1    45\n",
       "2    26\n",
       "Name: text, dtype: int64"
      ]
     },
     "execution_count": 53,
     "metadata": {},
     "output_type": "execute_result"
    }
   ],
   "source": [
    "# select dataframe, the column 'final_words', call str, and then use, len\n",
    "#method on that string\n",
    "# find number of characters\n",
    "df['text'].str.len()\n",
    "\n",
    "# n.b. if you wish to convert something to a string, wrap it in a str() function"
   ]
  },
  {
   "cell_type": "markdown",
   "metadata": {},
   "source": [
    "<font color=darkred>\n",
    "\n",
    "Are there 177 words or 177 characters?"
   ]
  },
  {
   "cell_type": "code",
   "execution_count": 54,
   "metadata": {},
   "outputs": [
    {
     "data": {
      "text/plain": [
       "0    6\n",
       "1    7\n",
       "2    5\n",
       "Name: text, dtype: int64"
      ]
     },
     "execution_count": 54,
     "metadata": {},
     "output_type": "execute_result"
    }
   ],
   "source": [
    "#tokens for each string \n",
    "# call the split function to break up on white spaces, and then count len of \n",
    "#those split up strings\n",
    "df['text'].str.split().str.len()"
   ]
  },
  {
   "cell_type": "code",
   "execution_count": 55,
   "metadata": {},
   "outputs": [
    {
     "data": {
      "text/plain": [
       "0    False\n",
       "1    False\n",
       "2     True\n",
       "Name: text, dtype: bool"
      ]
     },
     "execution_count": 55,
     "metadata": {},
     "output_type": "execute_result"
    }
   ],
   "source": [
    "#search through final words, use string method of contains to find 'Whale'\n",
    "df['text'].str.contains('Lab')"
   ]
  },
  {
   "cell_type": "code",
   "execution_count": 56,
   "metadata": {},
   "outputs": [
    {
     "data": {
      "text/plain": [
       "0    True\n",
       "1    True\n",
       "2    True\n",
       "Name: text, dtype: bool"
      ]
     },
     "execution_count": 56,
     "metadata": {},
     "output_type": "execute_result"
    }
   ],
   "source": [
    "# regualar expressions being w/ a r before the string construct quotes\n",
    "# \\d looks for digits\n",
    "df['text'].str.contains(r'\\d')"
   ]
  },
  {
   "cell_type": "code",
   "execution_count": 57,
   "metadata": {},
   "outputs": [
    {
     "data": {
      "text/plain": [
       "0    [(11, 59)]\n",
       "1     [(2, 00)]\n",
       "2     [(5, 00)]\n",
       "Name: text, dtype: object"
      ]
     },
     "execution_count": 57,
     "metadata": {},
     "output_type": "execute_result"
    }
   ],
   "source": [
    "# group and find digits\n",
    "df['text'].str.findall(r'(\\d?\\d):(\\d?\\d)')"
   ]
  },
  {
   "cell_type": "code",
   "execution_count": 58,
   "metadata": {},
   "outputs": [
    {
     "data": {
      "text/html": [
       "<div>\n",
       "<style>\n",
       "    .dataframe thead tr:only-child th {\n",
       "        text-align: right;\n",
       "    }\n",
       "\n",
       "    .dataframe thead th {\n",
       "        text-align: left;\n",
       "    }\n",
       "\n",
       "    .dataframe tbody tr th {\n",
       "        vertical-align: top;\n",
       "    }\n",
       "</style>\n",
       "<table border=\"1\" class=\"dataframe\">\n",
       "  <thead>\n",
       "    <tr style=\"text-align: right;\">\n",
       "      <th></th>\n",
       "      <th></th>\n",
       "      <th>0</th>\n",
       "    </tr>\n",
       "    <tr>\n",
       "      <th></th>\n",
       "      <th>match</th>\n",
       "      <th></th>\n",
       "    </tr>\n",
       "  </thead>\n",
       "  <tbody>\n",
       "    <tr>\n",
       "      <th>0</th>\n",
       "      <th>0</th>\n",
       "      <td>is</td>\n",
       "    </tr>\n",
       "    <tr>\n",
       "      <th>1</th>\n",
       "      <th>0</th>\n",
       "      <td>is</td>\n",
       "    </tr>\n",
       "    <tr>\n",
       "      <th>2</th>\n",
       "      <th>0</th>\n",
       "      <td>is</td>\n",
       "    </tr>\n",
       "  </tbody>\n",
       "</table>\n",
       "</div>"
      ],
      "text/plain": [
       "          0\n",
       "  match    \n",
       "0 0      is\n",
       "1 0      is\n",
       "2 0      is"
      ]
     },
     "execution_count": 58,
     "metadata": {},
     "output_type": "execute_result"
    }
   ],
   "source": [
    "#find all 'I'\n",
    "df['text'].str.extractall(r'(is)')"
   ]
  },
  {
   "cell_type": "code",
   "execution_count": 59,
   "metadata": {},
   "outputs": [
    {
     "data": {
      "text/html": [
       "<div>\n",
       "<style>\n",
       "    .dataframe thead tr:only-child th {\n",
       "        text-align: right;\n",
       "    }\n",
       "\n",
       "    .dataframe thead th {\n",
       "        text-align: left;\n",
       "    }\n",
       "\n",
       "    .dataframe tbody tr th {\n",
       "        vertical-align: top;\n",
       "    }\n",
       "</style>\n",
       "<table border=\"1\" class=\"dataframe\">\n",
       "  <thead>\n",
       "    <tr style=\"text-align: right;\">\n",
       "      <th></th>\n",
       "      <th></th>\n",
       "      <th>0</th>\n",
       "      <th>1</th>\n",
       "      <th>2</th>\n",
       "      <th>3</th>\n",
       "    </tr>\n",
       "    <tr>\n",
       "      <th></th>\n",
       "      <th>match</th>\n",
       "      <th></th>\n",
       "      <th></th>\n",
       "      <th></th>\n",
       "      <th></th>\n",
       "    </tr>\n",
       "  </thead>\n",
       "  <tbody>\n",
       "    <tr>\n",
       "      <th>0</th>\n",
       "      <th>0</th>\n",
       "      <td>11:59am</td>\n",
       "      <td>11</td>\n",
       "      <td>59</td>\n",
       "      <td>am</td>\n",
       "    </tr>\n",
       "    <tr>\n",
       "      <th>1</th>\n",
       "      <th>0</th>\n",
       "      <td>2:00pm</td>\n",
       "      <td>2</td>\n",
       "      <td>00</td>\n",
       "      <td>pm</td>\n",
       "    </tr>\n",
       "    <tr>\n",
       "      <th>2</th>\n",
       "      <th>0</th>\n",
       "      <td>5:00pm</td>\n",
       "      <td>5</td>\n",
       "      <td>00</td>\n",
       "      <td>pm</td>\n",
       "    </tr>\n",
       "  </tbody>\n",
       "</table>\n",
       "</div>"
      ],
      "text/plain": [
       "               0   1   2   3\n",
       "  match                     \n",
       "0 0      11:59am  11  59  am\n",
       "1 0       2:00pm   2  00  pm\n",
       "2 0       5:00pm   5  00  pm"
      ]
     },
     "execution_count": 59,
     "metadata": {},
     "output_type": "execute_result"
    }
   ],
   "source": [
    "#between two digits ':\" then zero or more of the group of either [ap] m\n",
    "df['text'].str.extractall(r'((\\d?\\d):(\\d\\d) ?([ap]m))')"
   ]
  },
  {
   "cell_type": "markdown",
   "metadata": {},
   "source": [
    "<font color=darkgreen>\n",
    "\n",
    "### Open developer tools. Tools --> Toggle Developer Tools\n",
    "\n",
    "https://www.oldbaileyonline.org/browse.jsp?id=t17940115-36-off187&div=t17940115-36"
   ]
  },
  {
   "cell_type": "code",
   "execution_count": 60,
   "metadata": {},
   "outputs": [
    {
     "name": "stdout",
     "output_type": "stream",
     "text": [
      "                                                                           sworn.\n",
      "          </p>\n",
      "          <p>\n",
      "           I am one of the police constables of Shoreditch. On Saturday the 11th of January, I went to a house in Rosemary-lane, which is in the parish of St. Mary's, Whitechapel, between the hours of eleven and twelve, in company with Harper and Blackiter, and apprehended the prisoner, and afterwards there was a word sent to Mr. Owen, I believe it was a house of recruits for soldiers, by my information I believe he had entered as a recruit, I believe he was entered, or was going to enter, he was carried by Mr. Blackiter and another officer that is here, to New Prison, I only came with him to New-street, Bishopsgate-street, and then I left him in the hands of\n",
      "           <a class=\"invisible\" name=\"t17940115-36-person559\">\n",
      "           </a>\n",
      "           Ferris                                                                   another way.\n",
      "          </p>\n",
      "          <p>\n",
      "           <a cl\n"
     ]
    }
   ],
   "source": [
    "soup = BeautifulSoup(req.html,\"html.parser\") #n.b. different parsers can mean very different structures\n",
    "print(soup.prettify()[9500:10500])"
   ]
  },
  {
   "cell_type": "code",
   "execution_count": 61,
   "metadata": {},
   "outputs": [
    {
     "data": {
      "text/plain": [
       "['html',\n",
       " 'head',\n",
       " 'title',\n",
       " 'meta',\n",
       " 'link',\n",
       " 'link',\n",
       " 'link',\n",
       " 'script',\n",
       " 'script',\n",
       " 'body',\n",
       " 'div',\n",
       " 'div',\n",
       " 'div',\n",
       " 'ul',\n",
       " 'li',\n",
       " 'a',\n",
       " 'li',\n",
       " 'a',\n",
       " 'li',\n",
       " 'a']"
      ]
     },
     "execution_count": 61,
     "metadata": {},
     "output_type": "execute_result"
    }
   ],
   "source": [
    "# first 20 tags\n",
    "[tag.name for tag in soup.find_all()][:20]"
   ]
  },
  {
   "cell_type": "code",
   "execution_count": 62,
   "metadata": {},
   "outputs": [
    {
     "data": {
      "text/plain": [
       "<head>\n",
       "<title>Browse - Central Criminal Court</title>\n",
       "<meta content=\"text/html; charset=utf-8\" http-equiv=\"content-type\"/>\n",
       "<link href=\"css/screen.css\" media=\"screen\" rel=\"stylesheet\" type=\"text/css\"/>\n",
       "<link href=\"a.css\" media=\"screen\" rel=\"stylesheet\" type=\"text/css\"/>\n",
       "<!--[if (lte IE 7)&(gte IE 5.5)]><link rel=\"stylesheet\" type=\"text/css\" media=\"screen\" href=\"css/ie7.css\" /><![endif]-->\n",
       "<!--[if (lte IE 6)&(gte IE 5.5)]><link rel=\"stylesheet\" type=\"text/css\" media=\"screen\" href=\"css/ie6.css\" /><![endif]-->\n",
       "<!--[if (lt IE 6)&(gte IE 5.5)]><link rel=\"stylesheet\" type=\"text/css\" media=\"screen\" href=\"css/ie5.css\" /><![endif]-->\n",
       "<link href=\"css/print.css\" media=\"print\" rel=\"stylesheet\" type=\"text/css\"/>\n",
       "<script src=\"a.js\" type=\"text/javascript\"></script>\n",
       "<script type=\"text/javascript\">\n",
       "\n",
       "\tvar _gaq = _gaq || [];\n",
       "\t_gaq.push(['_setAccount', 'UA-19174022-1']);\n",
       "\t_gaq.push(['_trackPageview']);\n",
       "\n",
       "\t(function() {\n",
       "\tvar ga = document.createElement('script'); ga.type = 'text/javascript'; ga.async = true;\n",
       "\tga.src = ('https:' == document.location.protocol ? 'https://ssl' : 'http://www') + '.google-analytics.com/ga.js';\n",
       "\tvar s = document.getElementsByTagName('script')[0]; s.parentNode.insertBefore(ga, s);\n",
       "\t})();\n",
       "\n",
       "\t</script>\n",
       "</head>"
      ]
     },
     "execution_count": 62,
     "metadata": {},
     "output_type": "execute_result"
    }
   ],
   "source": [
    "# the head, is there anything useful up here?\n",
    "soup.head"
   ]
  },
  {
   "cell_type": "code",
   "execution_count": 63,
   "metadata": {
    "collapsed": true
   },
   "outputs": [],
   "source": [
    "#soup.body"
   ]
  },
  {
   "cell_type": "code",
   "execution_count": 64,
   "metadata": {
    "scrolled": true
   },
   "outputs": [
    {
     "data": {
      "text/plain": [
       "[<p>104.                                  <a class=\"invisible\" name=\"t17940115-36-defend555\"> </a>                     JOSHUA                      DANIELS                                                                                                                               was indicted for that                                                          he on the 11th of January                     , feloniously, without any lawful cause, was at large in the kingdom of Great Britain, before the expiration of the term of seven years, for which he was ordered to be transported, at the session of gaol delivery for the City of London, in September last            .</p>,\n",
       " <p> <a class=\"invisible\" name=\"t17940115-36-person556\"> </a>                  JOHN                   OWEN                                                                                        sworn.</p>,\n",
       " <p>I am a servant to Mr. Kirby. The prisoner was tried here in September sessions last, for stealing an handkerchief, and was convicted, and received sentence to be transported.</p>,\n",
       " <p>Q. Are you sure as to his person? - Positive. On the 6th of January I had orders to convey him with nineteen others making twenty in the whole, to Portsmouth; last Monday was a week we went with the coach, when I got about thirty-four or thirty-five miles, he was missing when I came to Farnham, I never missed him till I came to Farnham, for I was inside of the coach with six others; I believe Farnham is thirty-four or thirty-five miles, he went in what they call the basket, belonging to the stage coach, in the same coach in which I was, he with seven others, making eight in all were in that place, there was six on the roof, and six withinside with me; when I came to Farnham I went to give them a little beer, by way of nourishment, being a cold night, I found him and another missing, by examining their irons, I believe it was about one o'clock in the morning; I gave every possible alarm that I could at that time of the morning, I continued on the journey with the eighteen others, and delivered them safe.</p>,\n",
       " <p>Q. When did you hear again from him? - On Sunday last one of the officers, that apprehended him, came and informed me that he had apprehended one of the people that got away from me, and I went to the New Prison, there I saw him; I have not the least doubt in the world but this is the same man.</p>,\n",
       " <p> <a class=\"invisible\" name=\"t17940115-36-person557\"> </a>                  Q.                                                                   How long have you known him? - Four or five years.</p>,\n",
       " <p>Prisoner. Would either a gentleman here been in my stead, and found opportunity to make their escape would they not have done the same.</p>,\n",
       " <p>(The record of his former conviction read by the clerk of the court.)</p>,\n",
       " <p> <a class=\"invisible\" name=\"t17940115-36-person558\"> </a>                  JOHN                   ARMSTRONG                                                                                        sworn.</p>,\n",
       " <p>I am one of the police constables of Shoreditch. On Saturday the 11th of January, I went to a house in Rosemary-lane, which is in the parish of St. Mary's, Whitechapel, between the hours of eleven and twelve, in company with Harper and Blackiter, and apprehended the prisoner, and afterwards there was a word sent to Mr. Owen, I believe it was a house of recruits for soldiers, by my information I believe he had entered as a recruit, I believe he was entered, or was going to enter, he was carried by Mr. Blackiter and another officer that is here, to New Prison, I only came with him to New-street, Bishopsgate-street, and then I left him in the hands of                <a class=\"invisible\" name=\"t17940115-36-person559\"> </a>                  Ferris                                                                   another way.</p>,\n",
       " <p> <a class=\"invisible\" name=\"t17940115-36-person560\"> </a>                  SAMUEL                   HARPER                                                                                        sworn.</p>,\n",
       " <p>I was present when this man was taken up, and we brought him from the house in a coach, to near Long-alley, by Moor<div class=\"facsimileLink\"><span class=\"facsimileText\"><a href=\"images.jsp?doc=179401150098\">See original</a></span> <a href=\"images.jsp?doc=179401150098\"><img alt=\"Click to see original\" class=\"facsimileLinkImage\" src=\"i/genericThumb.jpg\"/></a></div>fields, and then left him in the hands of Mr. Blackiter and Mr. Ferris.</p>,\n",
       " <p> <a class=\"invisible\" name=\"t17940115-36-person561\"> </a>                  WILLIAM                   BLACKITER                                                                                        sworn.</p>,\n",
       " <p>I am an officer belonging to the office of Shoreditch, in Worship-street; I was present when the prisoner was taken, we had a coach and took him down to New Prison that night.</p>,\n",
       " <p>Q. Did they receive him there without a commitment? - Yes, I left him there as a night charge. On Monday he was carried before the magistrate, and on Sunday I went and informed Mr. Owen.</p>,\n",
       " <p>Q. In what parish is this Rosemary-lane? - In Whitechapel.</p>,\n",
       " <p>Prisoner. If you please to consider if any gentlemen had found opportunity to make their escape they would have done the same. The guard behind the coach was fast asleep, I made my escape with no other idea than to serve my Majesty, I asked before to go for a soldier, and the Recorder that tried me, would not grant it me, I went at first to Deptford, to go on board a King's ship, and they would not take me, and I went to Rosemary-lane, and enlisted for a King's soldier to go to the East Indies, I did not do it for any intent than to serve his Majesty, either by sea or by land.</p>,\n",
       " <p>Q. In whose company did you enlist? - With Mr. Mozelle, I was taken out of his house, I was in bed when they came for me.</p>,\n",
       " <p>Mr. Kirby. They don't enlist into any company, only for five years, to serve in the East India company's settlement, and under no particular officer.</p>,\n",
       " <p>Court to Armstrong. Was he in bed? - Yes, he was with another man.</p>,\n",
       " <p>GUILTY.                                                                      Death                  . (Aged 26.)</p>,\n",
       " <p>Recommended by the Jury.</p>,\n",
       " <p>Tried by the London Jury before Mr. RECORDER.</p>,\n",
       " <p><a href=\"browse.jsp?foo=bar&amp;path=sessionsPapers/17940115.xml&amp;div=t17940115-36&amp;xml=yes\">View as XML</a></p>,\n",
       " <p> </p>,\n",
       " <p>Version 7.2 | March 2015\n",
       " </p>,\n",
       " <p><span>© 2003-2015 Old Bailey Proceedings Online</span></p>,\n",
       " <p>We welcome your <a href=\"static/Contact.jsp\"><span>feedback</span></a> on this web site</p>]"
      ]
     },
     "execution_count": 64,
     "metadata": {},
     "output_type": "execute_result"
    }
   ],
   "source": [
    "# let's find all paragraphs of text in the body of the webpage.\n",
    "soup.body.find_all('p')"
   ]
  },
  {
   "cell_type": "code",
   "execution_count": 65,
   "metadata": {},
   "outputs": [
    {
     "data": {
      "text/plain": [
       "bs4.element.ResultSet"
      ]
     },
     "execution_count": 65,
     "metadata": {},
     "output_type": "execute_result"
    }
   ],
   "source": [
    "# The result of this search is a bs4 result\n",
    "type(soup.body.find_all('p'))"
   ]
  },
  {
   "cell_type": "code",
   "execution_count": 66,
   "metadata": {
    "scrolled": true
   },
   "outputs": [
    {
     "name": "stdout",
     "output_type": "stream",
     "text": [
      "104.                                                        JOSHUA                      DANIELS                                                                                                                               was indicted for that                                                          he on the 11th of January                     , feloniously, without any lawful cause, was at large in the kingdom of Great Britain, before the expiration of the term of seven years, for which he was ordered to be transported, at the session of gaol delivery for the City of London, in September last            .\n",
      "                    JOHN                   OWEN                                                                                        sworn.\n",
      "I am a servant to Mr. Kirby. The prisoner was tried here in September sessions last, for stealing an handkerchief, and was convicted, and received sentence to be transported.\n",
      "Q. Are you sure as to his person? - Positive. On the 6th of January I had orders to convey him with nineteen others making twenty in the whole, to Portsmouth; last Monday was a week we went with the coach, when I got about thirty-four or thirty-five miles, he was missing when I came to Farnham, I never missed him till I came to Farnham, for I was inside of the coach with six others; I believe Farnham is thirty-four or thirty-five miles, he went in what they call the basket, belonging to the stage coach, in the same coach in which I was, he with seven others, making eight in all were in that place, there was six on the roof, and six withinside with me; when I came to Farnham I went to give them a little beer, by way of nourishment, being a cold night, I found him and another missing, by examining their irons, I believe it was about one o'clock in the morning; I gave every possible alarm that I could at that time of the morning, I continued on the journey with the eighteen others, and delivered them safe.\n",
      "Q. When did you hear again from him? - On Sunday last one of the officers, that apprehended him, came and informed me that he had apprehended one of the people that got away from me, and I went to the New Prison, there I saw him; I have not the least doubt in the world but this is the same man.\n",
      "                    Q.                                                                   How long have you known him? - Four or five years.\n",
      "Prisoner. Would either a gentleman here been in my stead, and found opportunity to make their escape would they not have done the same.\n",
      "(The record of his former conviction read by the clerk of the court.)\n",
      "                    JOHN                   ARMSTRONG                                                                                        sworn.\n",
      "I am one of the police constables of Shoreditch. On Saturday the 11th of January, I went to a house in Rosemary-lane, which is in the parish of St. Mary's, Whitechapel, between the hours of eleven and twelve, in company with Harper and Blackiter, and apprehended the prisoner, and afterwards there was a word sent to Mr. Owen, I believe it was a house of recruits for soldiers, by my information I believe he had entered as a recruit, I believe he was entered, or was going to enter, he was carried by Mr. Blackiter and another officer that is here, to New Prison, I only came with him to New-street, Bishopsgate-street, and then I left him in the hands of                                   Ferris                                                                   another way.\n",
      "                    SAMUEL                   HARPER                                                                                        sworn.\n",
      "I was present when this man was taken up, and we brought him from the house in a coach, to near Long-alley, by MoorSee original fields, and then left him in the hands of Mr. Blackiter and Mr. Ferris.\n",
      "                    WILLIAM                   BLACKITER                                                                                        sworn.\n",
      "I am an officer belonging to the office of Shoreditch, in Worship-street; I was present when the prisoner was taken, we had a coach and took him down to New Prison that night.\n",
      "Q. Did they receive him there without a commitment? - Yes, I left him there as a night charge. On Monday he was carried before the magistrate, and on Sunday I went and informed Mr. Owen.\n",
      "Q. In what parish is this Rosemary-lane? - In Whitechapel.\n",
      "Prisoner. If you please to consider if any gentlemen had found opportunity to make their escape they would have done the same. The guard behind the coach was fast asleep, I made my escape with no other idea than to serve my Majesty, I asked before to go for a soldier, and the Recorder that tried me, would not grant it me, I went at first to Deptford, to go on board a King's ship, and they would not take me, and I went to Rosemary-lane, and enlisted for a King's soldier to go to the East Indies, I did not do it for any intent than to serve his Majesty, either by sea or by land.\n",
      "Q. In whose company did you enlist? - With Mr. Mozelle, I was taken out of his house, I was in bed when they came for me.\n",
      "Mr. Kirby. They don't enlist into any company, only for five years, to serve in the East India company's settlement, and under no particular officer.\n",
      "Court to Armstrong. Was he in bed? - Yes, he was with another man.\n",
      "GUILTY.                                                                      Death                  . (Aged 26.)\n",
      "Recommended by the Jury.\n",
      "Tried by the London Jury before Mr. RECORDER.\n",
      "View as XML\n",
      " \n",
      "Version 7.2 | March 2015\n",
      "\n",
      "© 2003-2015 Old Bailey Proceedings Online\n",
      "We welcome your feedback on this web site\n"
     ]
    }
   ],
   "source": [
    "# we have to use the .text or .string method to extact the actual string or text that we want\n",
    "for p_tag in soup.find_all('p'):\n",
    "    print(p_tag.text)"
   ]
  },
  {
   "cell_type": "markdown",
   "metadata": {},
   "source": [
    "<font color=darkgreen>\n",
    "    \n",
    "However, I get all this crap at the end that I don't want to have in there. Plus I also want to extract some unqiue values: name of target, date, their sentence, and then the text of the trial. This is is all in one big blob.\n",
    "\n",
    "Let's say I wanted to create this Python data structure (next time we'll discuss storing this externally):\n",
    "\n",
    "| Defendant Name | Date of Trial | Sentence | Text of Trial |\n",
    "|----------------|---------------|----------|---------------|\n",
    "| Joshua Daniels  | 1/15/1794      | Death    |  JOHN OWEN sworn. I am a servant to Mr. Kirby. The prisoner was tried here in September sessions last, for stealing an handkerchief, and was convicted, and received sentence to be transported....  |"
   ]
  },
  {
   "cell_type": "markdown",
   "metadata": {},
   "source": [
    "<font color=darkgreen>\n",
    "    \n",
    "### Step 2. Parse the html with BeautifulSoup, that is, turn the raw text into something that the machine can read through.\n",
    "\n",
    "BeautifulSoup has a few crucial functions for us:\n",
    "\n",
    "- `soup.prettify()`: Returns cleanedup version of raw html for printing\n",
    "- `soup.find_all()`: Returns Python list of matching objects\n",
    "- `soup.find()`:Returns first matching object for that item.\n",
    "- `soup.text/soup.get_text()`: Returns visible text of an object (e.g.,\"<p>Some text</p>\" -> \"Some text\")\n",
    "\n",
    "\n",
    "Full documentation: https://www.crummy.com/software/BeautifulSoup/bs4/doc/\n",
    "\n",
    "#### Right-click, 'View source'"
   ]
  },
  {
   "cell_type": "markdown",
   "metadata": {},
   "source": [
    "<font color=darkgreen>\n",
    "    \n",
    "So, let's go look at the developer tools on each page and see if we can find a structure that works. First the title:\n",
    "\n",
    "![](title.png)"
   ]
  },
  {
   "cell_type": "code",
   "execution_count": 67,
   "metadata": {},
   "outputs": [
    {
     "data": {
      "text/plain": [
       "<div class=\"sessionsPaperTitle\">JOSHUA DANIELS, Miscellaneous &gt; returning from transportation, 15th January 1794. </div>"
      ]
     },
     "execution_count": 67,
     "metadata": {},
     "output_type": "execute_result"
    }
   ],
   "source": [
    "# first the title\n",
    "soup.find('div', class_='sessionsPaperTitle')"
   ]
  },
  {
   "cell_type": "code",
   "execution_count": 68,
   "metadata": {},
   "outputs": [
    {
     "data": {
      "text/plain": [
       "'JOSHUA DANIELS, Miscellaneous > returning from transportation, 15th January 1794. '"
      ]
     },
     "execution_count": 68,
     "metadata": {},
     "output_type": "execute_result"
    }
   ],
   "source": [
    "# extract just the text of the title\n",
    "soup.find('div', class_='sessionsPaperTitle').get_text()"
   ]
  },
  {
   "cell_type": "markdown",
   "metadata": {},
   "source": [
    "<font color=darkgreen>\n",
    "    \n",
    "**Next, just the text of the trial.**\n",
    "\n",
    "And then next, the body, with the text in question:\n",
    "\n",
    "![](body.png)\n",
    "\n",
    "[//]: ![body_trail](body_detail.png)\n",
    "\n",
    "What we see here is that we want all the paragraphs within \"div sessions paper\" tag."
   ]
  },
  {
   "cell_type": "code",
   "execution_count": 69,
   "metadata": {},
   "outputs": [
    {
     "data": {
      "text/plain": [
       "<div class=\"sessionsPaper\"><a class=\"invisible\" name=\"t17940115-36\"> </a><div class=\"sessionsPaperTitle\">JOSHUA DANIELS, Miscellaneous &gt; returning from transportation, 15th January 1794. </div><br/><div class=\"apparatus\"><b>Reference Number: </b>t17940115-36<br/><b>Offence: </b><a href=\"static/Crimes.jsp#miscellaneous\">Miscellaneous</a> &gt; <a href=\"static/Crimes.jsp#returnfromtransportation\">returning from transportation</a><br/><b>Verdict: </b><a href=\"static/Verdicts.jsp#guilty\">Guilty</a> &gt; <a href=\"static/Verdicts.jsp#withrecommendation\">with recommendation</a><br/><b>Punishment: </b><a href=\"static/Punishment.jsp#death\">Death</a><br/><b>Navigation: </b><a href=\"browse.jsp?div=t17940115-35\">&lt; Previous text (trial account)</a> | <a href=\"browse.jsp?div=t17940115-37\">Next text (trial account) &gt;</a></div><div class=\"links\"><b>Related Material: </b><a href=\"search.jsp?form=associatedRecords&amp;_associatedRecords_trials=t17940115-36\">Associated Records</a><br/><b>Actions: </b><a href=\"javascript:expand('citation')\">Cite this text</a><div class=\"hidden\" id=\"citation\"><i>Old Bailey Proceedings Online</i> (www.oldbaileyonline.org, version 7.2, 01 February 2018), January 1794, trial of                      JOSHUA                      DANIELS                                                                                                    (t17940115-36).<div style=\"text-align:right\"><a href=\"javascript:contract('citation')\">Close</a></div></div> | <a href=\"print.jsp?div=t17940115-36\">Print-friendly version</a></div><div class=\"facsimileLink\"><span class=\"facsimileText\"><a href=\"images.jsp?doc=179401150097\">See original</a></span> <a href=\"images.jsp?doc=179401150097\"><img alt=\"Click to see original\" class=\"facsimileLinkImage\" src=\"i/genericThumb.jpg\"/></a></div> <p>104.                                  <a class=\"invisible\" name=\"t17940115-36-defend555\"> </a>                     JOSHUA                      DANIELS                                                                                                                               was indicted for that                                                          he on the 11th of January                     , feloniously, without any lawful cause, was at large in the kingdom of Great Britain, before the expiration of the term of seven years, for which he was ordered to be transported, at the session of gaol delivery for the City of London, in September last            .</p> <p> <a class=\"invisible\" name=\"t17940115-36-person556\"> </a>                  JOHN                   OWEN                                                                                        sworn.</p> <p>I am a servant to Mr. Kirby. The prisoner was tried here in September sessions last, for stealing an handkerchief, and was convicted, and received sentence to be transported.</p> <p>Q. Are you sure as to his person? - Positive. On the 6th of January I had orders to convey him with nineteen others making twenty in the whole, to Portsmouth; last Monday was a week we went with the coach, when I got about thirty-four or thirty-five miles, he was missing when I came to Farnham, I never missed him till I came to Farnham, for I was inside of the coach with six others; I believe Farnham is thirty-four or thirty-five miles, he went in what they call the basket, belonging to the stage coach, in the same coach in which I was, he with seven others, making eight in all were in that place, there was six on the roof, and six withinside with me; when I came to Farnham I went to give them a little beer, by way of nourishment, being a cold night, I found him and another missing, by examining their irons, I believe it was about one o'clock in the morning; I gave every possible alarm that I could at that time of the morning, I continued on the journey with the eighteen others, and delivered them safe.</p> <p>Q. When did you hear again from him? - On Sunday last one of the officers, that apprehended him, came and informed me that he had apprehended one of the people that got away from me, and I went to the New Prison, there I saw him; I have not the least doubt in the world but this is the same man.</p> <p> <a class=\"invisible\" name=\"t17940115-36-person557\"> </a>                  Q.                                                                   How long have you known him? - Four or five years.</p> <p>Prisoner. Would either a gentleman here been in my stead, and found opportunity to make their escape would they not have done the same.</p> <p>(The record of his former conviction read by the clerk of the court.)</p> <p> <a class=\"invisible\" name=\"t17940115-36-person558\"> </a>                  JOHN                   ARMSTRONG                                                                                        sworn.</p> <p>I am one of the police constables of Shoreditch. On Saturday the 11th of January, I went to a house in Rosemary-lane, which is in the parish of St. Mary's, Whitechapel, between the hours of eleven and twelve, in company with Harper and Blackiter, and apprehended the prisoner, and afterwards there was a word sent to Mr. Owen, I believe it was a house of recruits for soldiers, by my information I believe he had entered as a recruit, I believe he was entered, or was going to enter, he was carried by Mr. Blackiter and another officer that is here, to New Prison, I only came with him to New-street, Bishopsgate-street, and then I left him in the hands of                <a class=\"invisible\" name=\"t17940115-36-person559\"> </a>                  Ferris                                                                   another way.</p> <p> <a class=\"invisible\" name=\"t17940115-36-person560\"> </a>                  SAMUEL                   HARPER                                                                                        sworn.</p> <p>I was present when this man was taken up, and we brought him from the house in a coach, to near Long-alley, by Moor<div class=\"facsimileLink\"><span class=\"facsimileText\"><a href=\"images.jsp?doc=179401150098\">See original</a></span> <a href=\"images.jsp?doc=179401150098\"><img alt=\"Click to see original\" class=\"facsimileLinkImage\" src=\"i/genericThumb.jpg\"/></a></div>fields, and then left him in the hands of Mr. Blackiter and Mr. Ferris.</p> <p> <a class=\"invisible\" name=\"t17940115-36-person561\"> </a>                  WILLIAM                   BLACKITER                                                                                        sworn.</p> <p>I am an officer belonging to the office of Shoreditch, in Worship-street; I was present when the prisoner was taken, we had a coach and took him down to New Prison that night.</p> <p>Q. Did they receive him there without a commitment? - Yes, I left him there as a night charge. On Monday he was carried before the magistrate, and on Sunday I went and informed Mr. Owen.</p> <p>Q. In what parish is this Rosemary-lane? - In Whitechapel.</p> <p>Prisoner. If you please to consider if any gentlemen had found opportunity to make their escape they would have done the same. The guard behind the coach was fast asleep, I made my escape with no other idea than to serve my Majesty, I asked before to go for a soldier, and the Recorder that tried me, would not grant it me, I went at first to Deptford, to go on board a King's ship, and they would not take me, and I went to Rosemary-lane, and enlisted for a King's soldier to go to the East Indies, I did not do it for any intent than to serve his Majesty, either by sea or by land.</p> <p>Q. In whose company did you enlist? - With Mr. Mozelle, I was taken out of his house, I was in bed when they came for me.</p> <p>Mr. Kirby. They don't enlist into any company, only for five years, to serve in the East India company's settlement, and under no particular officer.</p> <p>Court to Armstrong. Was he in bed? - Yes, he was with another man.</p> <p>GUILTY.                                                                      Death                  . (Aged 26.)</p> <p>Recommended by the Jury.</p> <p>Tried by the London Jury before Mr. RECORDER.</p> </div>"
      ]
     },
     "execution_count": 69,
     "metadata": {},
     "output_type": "execute_result"
    }
   ],
   "source": [
    "soup.find('div', class_='sessionsPaper')"
   ]
  },
  {
   "cell_type": "code",
   "execution_count": 70,
   "metadata": {},
   "outputs": [
    {
     "data": {
      "text/plain": [
       "[<p>104.                                  <a class=\"invisible\" name=\"t17940115-36-defend555\"> </a>                     JOSHUA                      DANIELS                                                                                                                               was indicted for that                                                          he on the 11th of January                     , feloniously, without any lawful cause, was at large in the kingdom of Great Britain, before the expiration of the term of seven years, for which he was ordered to be transported, at the session of gaol delivery for the City of London, in September last            .</p>,\n",
       " <p> <a class=\"invisible\" name=\"t17940115-36-person556\"> </a>                  JOHN                   OWEN                                                                                        sworn.</p>,\n",
       " <p>I am a servant to Mr. Kirby. The prisoner was tried here in September sessions last, for stealing an handkerchief, and was convicted, and received sentence to be transported.</p>,\n",
       " <p>Q. Are you sure as to his person? - Positive. On the 6th of January I had orders to convey him with nineteen others making twenty in the whole, to Portsmouth; last Monday was a week we went with the coach, when I got about thirty-four or thirty-five miles, he was missing when I came to Farnham, I never missed him till I came to Farnham, for I was inside of the coach with six others; I believe Farnham is thirty-four or thirty-five miles, he went in what they call the basket, belonging to the stage coach, in the same coach in which I was, he with seven others, making eight in all were in that place, there was six on the roof, and six withinside with me; when I came to Farnham I went to give them a little beer, by way of nourishment, being a cold night, I found him and another missing, by examining their irons, I believe it was about one o'clock in the morning; I gave every possible alarm that I could at that time of the morning, I continued on the journey with the eighteen others, and delivered them safe.</p>,\n",
       " <p>Q. When did you hear again from him? - On Sunday last one of the officers, that apprehended him, came and informed me that he had apprehended one of the people that got away from me, and I went to the New Prison, there I saw him; I have not the least doubt in the world but this is the same man.</p>,\n",
       " <p> <a class=\"invisible\" name=\"t17940115-36-person557\"> </a>                  Q.                                                                   How long have you known him? - Four or five years.</p>,\n",
       " <p>Prisoner. Would either a gentleman here been in my stead, and found opportunity to make their escape would they not have done the same.</p>,\n",
       " <p>(The record of his former conviction read by the clerk of the court.)</p>,\n",
       " <p> <a class=\"invisible\" name=\"t17940115-36-person558\"> </a>                  JOHN                   ARMSTRONG                                                                                        sworn.</p>,\n",
       " <p>I am one of the police constables of Shoreditch. On Saturday the 11th of January, I went to a house in Rosemary-lane, which is in the parish of St. Mary's, Whitechapel, between the hours of eleven and twelve, in company with Harper and Blackiter, and apprehended the prisoner, and afterwards there was a word sent to Mr. Owen, I believe it was a house of recruits for soldiers, by my information I believe he had entered as a recruit, I believe he was entered, or was going to enter, he was carried by Mr. Blackiter and another officer that is here, to New Prison, I only came with him to New-street, Bishopsgate-street, and then I left him in the hands of                <a class=\"invisible\" name=\"t17940115-36-person559\"> </a>                  Ferris                                                                   another way.</p>,\n",
       " <p> <a class=\"invisible\" name=\"t17940115-36-person560\"> </a>                  SAMUEL                   HARPER                                                                                        sworn.</p>,\n",
       " <p>I was present when this man was taken up, and we brought him from the house in a coach, to near Long-alley, by Moor<div class=\"facsimileLink\"><span class=\"facsimileText\"><a href=\"images.jsp?doc=179401150098\">See original</a></span> <a href=\"images.jsp?doc=179401150098\"><img alt=\"Click to see original\" class=\"facsimileLinkImage\" src=\"i/genericThumb.jpg\"/></a></div>fields, and then left him in the hands of Mr. Blackiter and Mr. Ferris.</p>,\n",
       " <p> <a class=\"invisible\" name=\"t17940115-36-person561\"> </a>                  WILLIAM                   BLACKITER                                                                                        sworn.</p>,\n",
       " <p>I am an officer belonging to the office of Shoreditch, in Worship-street; I was present when the prisoner was taken, we had a coach and took him down to New Prison that night.</p>,\n",
       " <p>Q. Did they receive him there without a commitment? - Yes, I left him there as a night charge. On Monday he was carried before the magistrate, and on Sunday I went and informed Mr. Owen.</p>,\n",
       " <p>Q. In what parish is this Rosemary-lane? - In Whitechapel.</p>,\n",
       " <p>Prisoner. If you please to consider if any gentlemen had found opportunity to make their escape they would have done the same. The guard behind the coach was fast asleep, I made my escape with no other idea than to serve my Majesty, I asked before to go for a soldier, and the Recorder that tried me, would not grant it me, I went at first to Deptford, to go on board a King's ship, and they would not take me, and I went to Rosemary-lane, and enlisted for a King's soldier to go to the East Indies, I did not do it for any intent than to serve his Majesty, either by sea or by land.</p>,\n",
       " <p>Q. In whose company did you enlist? - With Mr. Mozelle, I was taken out of his house, I was in bed when they came for me.</p>,\n",
       " <p>Mr. Kirby. They don't enlist into any company, only for five years, to serve in the East India company's settlement, and under no particular officer.</p>,\n",
       " <p>Court to Armstrong. Was he in bed? - Yes, he was with another man.</p>,\n",
       " <p>GUILTY.                                                                      Death                  . (Aged 26.)</p>,\n",
       " <p>Recommended by the Jury.</p>,\n",
       " <p>Tried by the London Jury before Mr. RECORDER.</p>]"
      ]
     },
     "execution_count": 70,
     "metadata": {},
     "output_type": "execute_result"
    }
   ],
   "source": [
    "# just the paragraphs in the div class=_sessionsPaper tag\n",
    "soup.find('div', class_='sessionsPaper').find_all('p')"
   ]
  },
  {
   "cell_type": "code",
   "execution_count": 71,
   "metadata": {
    "collapsed": true
   },
   "outputs": [],
   "source": [
    "#for p in soup.find('div', class_='sessionsPaper').find_all('p'):\n",
    "#    #get text per tag from within.\n",
    "#    print(p.get_text())"
   ]
  },
  {
   "cell_type": "code",
   "execution_count": 72,
   "metadata": {
    "collapsed": true
   },
   "outputs": [],
   "source": [
    "# so, if we wish to write all these paragraphs into a single entity, we'll take them as a list.\n",
    "\n",
    "trial_text = [] #blank list, must be outside of 4 loop\n",
    "for p in soup.find('div', class_='sessionsPaper').find_all('p'):\n",
    "    trial_text.append(p.get_text()) #append each paragraph to blank list"
   ]
  },
  {
   "cell_type": "code",
   "execution_count": 73,
   "metadata": {},
   "outputs": [
    {
     "data": {
      "text/plain": [
       "['I am a servant to Mr. Kirby. The prisoner was tried here in September sessions last, for stealing an handkerchief, and was convicted, and received sentence to be transported.',\n",
       " \"Q. Are you sure as to his person? - Positive. On the 6th of January I had orders to convey him with nineteen others making twenty in the whole, to Portsmouth; last Monday was a week we went with the coach, when I got about thirty-four or thirty-five miles, he was missing when I came to Farnham, I never missed him till I came to Farnham, for I was inside of the coach with six others; I believe Farnham is thirty-four or thirty-five miles, he went in what they call the basket, belonging to the stage coach, in the same coach in which I was, he with seven others, making eight in all were in that place, there was six on the roof, and six withinside with me; when I came to Farnham I went to give them a little beer, by way of nourishment, being a cold night, I found him and another missing, by examining their irons, I believe it was about one o'clock in the morning; I gave every possible alarm that I could at that time of the morning, I continued on the journey with the eighteen others, and delivered them safe.\"]"
      ]
     },
     "execution_count": 73,
     "metadata": {},
     "output_type": "execute_result"
    }
   ],
   "source": [
    "# sanity check, list of paragraphs from website.\n",
    "trial_text[2:4]"
   ]
  },
  {
   "cell_type": "markdown",
   "metadata": {},
   "source": [
    "<font color=darkgreen>\n",
    "    \n",
    "So, now we are going to take out a string with some identifying information in it and we're going to extract a list of paragraphs. At this point, you might be asking \"Zach, what the hell, data in this form is useless to me!\" Well, yes, we're going to start data wrangling next week. For right now, we just want to get it off the website and into a Python data object and save it locally.\n",
    "\n",
    "Later in your text analysis career, you'll find it useful to integrate cleaning and scraping simultaneously, right now, we're just going to focus on scrapping.\n",
    "\n",
    "** \n",
    "However, now we know what we want from each page: a single string which contains information about the trial (name of defendant and date of trial) and then a list of strings of the actual text of the case.)\n",
    "**"
   ]
  },
  {
   "cell_type": "markdown",
   "metadata": {},
   "source": [
    "<font color=dark>\n",
    "#### A word of warning: XML VS HTML\n",
    "\n",
    "- HTML tells your browser how to display information\n",
    "- XML is a rich-text document which lists which information is which.\n",
    "- One can save things directly as XML if one has the local storage space.\n",
    "- Instead of using an HTML parser, instead get the XML page and then parse that."
   ]
  },
  {
   "cell_type": "markdown",
   "metadata": {},
   "source": [
    "To view as XML:\n",
    "\n",
    "https://www.oldbaileyonline.org/browse.jsp?foo=bar&path=sessionsPapers/17940115.xml&div=t17940115-36&xml=yes"
   ]
  },
  {
   "cell_type": "markdown",
   "metadata": {},
   "source": [
    "***\n",
    "\n",
    "<font color=darkgreen>\n",
    "    \n",
    "### 3. Get a list of links to the pages with the data.\n",
    "\n",
    "https://www.oldbaileyonline.org/search.jsp?gen=1&form=searchHomePage&_offences_offenceCategory_offenceSubcategory=miscellaneous_returnFromTransportation&start=0&count=0\n",
    "\n",
    "#### Here we encounter where the web design is inconsistent. We can't deal with 'start=0' so we have to 'hack it' and manually add that page at the end.\n",
    "\n",
    "https://www.oldbaileyonline.org/search.jsp?gen=1&form=searchHomePage&_offences_offenceCategory_offenceSubcategory=miscellaneous_returnFromTransportation&count=391&start=10\n",
    "\n",
    "https://www.oldbaileyonline.org/search.jsp?gen=1&form=searchHomePage&_offences_offenceCategory_offenceSubcategory=miscellaneous_returnFromTransportation&count=391&start=20"
   ]
  },
  {
   "cell_type": "code",
   "execution_count": 74,
   "metadata": {
    "collapsed": true
   },
   "outputs": [],
   "source": [
    "# so here is the base url from our search\n",
    "url_search = 'https://www.oldbaileyonline.org/search.jsp?gen=1&form=searchHomePage&_offences_offenceCategory_offenceSubcategory=miscellaneous_returnFromTransportation&count=391&start='"
   ]
  },
  {
   "cell_type": "code",
   "execution_count": 75,
   "metadata": {},
   "outputs": [
    {
     "name": "stdout",
     "output_type": "stream",
     "text": [
      "[10, 20, 30, 40, 50, 60, 70, 80, 90, 100, 110, 120, 130, 140, 150, 160, 170, 180, 190, 200, 210, 220, 230, 240, 250, 260, 270, 280, 290, 300, 310, 320, 330, 340, 350, 360, 370, 380]\n"
     ]
    }
   ],
   "source": [
    "#we also want to count from 0 to 390 in increments of 10\n",
    "range(10,400,10)\n",
    "print(list(range(10,390,10)))"
   ]
  },
  {
   "cell_type": "code",
   "execution_count": 76,
   "metadata": {
    "collapsed": true
   },
   "outputs": [],
   "source": [
    "list_urls = []\n",
    "for i in range(10,400,10):\n",
    "    #append to our blank list the base url append to the \n",
    "    list_urls.append(url_search+str(i))"
   ]
  },
  {
   "cell_type": "code",
   "execution_count": 77,
   "metadata": {},
   "outputs": [
    {
     "data": {
      "text/plain": [
       "['https://www.oldbaileyonline.org/search.jsp?gen=1&form=searchHomePage&_offences_offenceCategory_offenceSubcategory=miscellaneous_returnFromTransportation&count=391&start=10',\n",
       " 'https://www.oldbaileyonline.org/search.jsp?gen=1&form=searchHomePage&_offences_offenceCategory_offenceSubcategory=miscellaneous_returnFromTransportation&count=391&start=20',\n",
       " 'https://www.oldbaileyonline.org/search.jsp?gen=1&form=searchHomePage&_offences_offenceCategory_offenceSubcategory=miscellaneous_returnFromTransportation&count=391&start=30',\n",
       " 'https://www.oldbaileyonline.org/search.jsp?gen=1&form=searchHomePage&_offences_offenceCategory_offenceSubcategory=miscellaneous_returnFromTransportation&count=391&start=40',\n",
       " 'https://www.oldbaileyonline.org/search.jsp?gen=1&form=searchHomePage&_offences_offenceCategory_offenceSubcategory=miscellaneous_returnFromTransportation&count=391&start=50']"
      ]
     },
     "execution_count": 77,
     "metadata": {},
     "output_type": "execute_result"
    }
   ],
   "source": [
    "list_urls[:5]"
   ]
  },
  {
   "cell_type": "code",
   "execution_count": 78,
   "metadata": {
    "collapsed": true
   },
   "outputs": [],
   "source": [
    "# Hack and add this in at the end.\n",
    "\n",
    "list_urls.append('https://www.oldbaileyonline.org/search.jsp?gen=1&form=searchHomePage&_offences_offenceCategory_offenceSubcategory=miscellaneous_returnFromTransportation&start=0&count=0')"
   ]
  },
  {
   "cell_type": "code",
   "execution_count": 79,
   "metadata": {},
   "outputs": [
    {
     "data": {
      "text/plain": [
       "'https://www.oldbaileyonline.org/search.jsp?gen=1&form=searchHomePage&_offences_offenceCategory_offenceSubcategory=miscellaneous_returnFromTransportation&count=391&start=10'"
      ]
     },
     "execution_count": 79,
     "metadata": {},
     "output_type": "execute_result"
    }
   ],
   "source": [
    "# Check the first URL, which is the second page.\n",
    "list_urls[0]"
   ]
  },
  {
   "cell_type": "code",
   "execution_count": 80,
   "metadata": {},
   "outputs": [
    {
     "data": {
      "text/plain": [
       "'https://www.oldbaileyonline.org/search.jsp?gen=1&form=searchHomePage&_offences_offenceCategory_offenceSubcategory=miscellaneous_returnFromTransportation&start=0&count=0'"
      ]
     },
     "execution_count": 80,
     "metadata": {},
     "output_type": "execute_result"
    }
   ],
   "source": [
    "# Check the last URL, which is the first page.\n",
    "list_urls[-1]"
   ]
  },
  {
   "cell_type": "markdown",
   "metadata": {},
   "source": [
    "<font color=darkgreen>\n",
    "\n",
    "So, now we have a list of URLS which contain a list of the pages of interest. Now we have to extract urls of the pages of interest.\n",
    "\n",
    "https://www.oldbaileyonline.org/search.jsp?gen=1&form=searchHomePage&_offences_offenceCategory_offenceSubcategory=miscellaneous_returnFromTransportation&start=0&count=0"
   ]
  },
  {
   "cell_type": "code",
   "execution_count": 81,
   "metadata": {},
   "outputs": [
    {
     "data": {
      "text/plain": [
       "200"
      ]
     },
     "execution_count": 81,
     "metadata": {},
     "output_type": "execute_result"
    }
   ],
   "source": [
    "url_list = \"https://www.oldbaileyonline.org/search.jsp?gen=1&form=searchHomePage&_offences_offenceCategory_offenceSubcategory=miscellaneous_returnFromTransportation&start=0&count=0\"\n",
    "req = requests.get(url_list,timeout=20)\n",
    "req.status_code #again check status"
   ]
  },
  {
   "cell_type": "code",
   "execution_count": 82,
   "metadata": {
    "collapsed": true
   },
   "outputs": [],
   "source": [
    "req.html = req.text\n",
    "soup = BeautifulSoup(req.html,\"html.parser\")\n",
    "#print(soup.prettify())"
   ]
  },
  {
   "cell_type": "raw",
   "metadata": {},
   "source": [
    "# href=True specifies that there is a href attribute in an 'a' tag\n",
    "#soup.find_all('a', href=True)"
   ]
  },
  {
   "cell_type": "markdown",
   "metadata": {},
   "source": [
    "<font color=darkgreen>\n",
    "    \n",
    "Go to search results page and then get a link to the page trial page.\n",
    "\n",
    "![search_results](search_results.png)"
   ]
  },
  {
   "cell_type": "code",
   "execution_count": 83,
   "metadata": {},
   "outputs": [
    {
     "name": "stdout",
     "output_type": "stream",
     "text": [
      "browse.jsp?id=t17200907-43-off219&div=t17200907-43#highlight\n",
      "browse.jsp?id=t17200907-44-off223&div=t17200907-44#highlight\n",
      "browse.jsp?id=t17201012-34-off193&div=t17201012-34#highlight\n",
      "browse.jsp?id=t17210113-46-off243&div=t17210113-46#highlight\n",
      "browse.jsp?id=t17210301-61-off333&div=t17210301-61#highlight\n",
      "browse.jsp?id=t17210525-19-off96&div=t17210525-19#highlight\n",
      "browse.jsp?id=t17210525-1-off7&div=t17210525-1#highlight\n",
      "browse.jsp?id=t17210712-21-off102&div=t17210712-21#highlight\n",
      "browse.jsp?id=t17210830-31-off162&div=t17210830-31#highlight\n",
      "browse.jsp?id=t17211206-69-off331&div=t17211206-69#highlight\n"
     ]
    }
   ],
   "source": [
    "# now we use a regular expression on the href to select only those hrefs that start with the unique string\n",
    "# each tag option can be subsetted to select a part\n",
    "for a_tag in soup.find_all('a', href = re.compile('#highlight')):\n",
    "    print(a_tag['href'])"
   ]
  },
  {
   "cell_type": "markdown",
   "metadata": {},
   "source": [
    "<font color=darkgreen>\n",
    "### **Now we extract the links to the unique cases.**"
   ]
  },
  {
   "cell_type": "code",
   "execution_count": 84,
   "metadata": {},
   "outputs": [
    {
     "name": "stdout",
     "output_type": "stream",
     "text": [
      "Page 1 of search results added.\n",
      "https://www.oldbaileyonline.org/browse.jsp?id=t17220907-77-off417&div=t17220907-77#highlight\n",
      "https://www.oldbaileyonline.org/browse.jsp?id=t17220907-24-off124&div=t17220907-24#highlight\n",
      "https://www.oldbaileyonline.org/browse.jsp?id=t17230116-22-off108&div=t17230116-22#highlight\n",
      "https://www.oldbaileyonline.org/browse.jsp?id=t17230116-23-off111&div=t17230116-23#highlight\n",
      "https://www.oldbaileyonline.org/browse.jsp?id=t17231016-40-off213&div=t17231016-40#highlight\n",
      "https://www.oldbaileyonline.org/browse.jsp?id=t17250115-48-off249&div=t17250115-48#highlight\n",
      "https://www.oldbaileyonline.org/browse.jsp?id=t17250115-17-off91&div=t17250115-17#highlight\n",
      "https://www.oldbaileyonline.org/browse.jsp?id=t17250407-61-off332&div=t17250407-61#highlight\n",
      "https://www.oldbaileyonline.org/browse.jsp?id=t17251013-64-off305&div=t17251013-64#highlight\n",
      "https://www.oldbaileyonline.org/browse.jsp?id=t17251013-53-off259&div=t17251013-53#highlight\n",
      "Page 2 of search results added.\n",
      "https://www.oldbaileyonline.org/browse.jsp?id=t17251208-101-off452&div=t17251208-101#highlight\n",
      "https://www.oldbaileyonline.org/browse.jsp?id=t17260711-56-off257&div=t17260711-56#highlight\n",
      "https://www.oldbaileyonline.org/browse.jsp?id=t17260831-41-off192&div=t17260831-41#highlight\n",
      "https://www.oldbaileyonline.org/browse.jsp?id=t17261012-53-off221&div=t17261012-53#highlight\n",
      "https://www.oldbaileyonline.org/browse.jsp?id=t17270705-25-off123&div=t17270705-25#highlight\n",
      "https://www.oldbaileyonline.org/browse.jsp?id=t17270830-45-off211&div=t17270830-45#highlight\n",
      "https://www.oldbaileyonline.org/browse.jsp?id=t17271017-30-off137&div=t17271017-30#highlight\n",
      "https://www.oldbaileyonline.org/browse.jsp?id=t17281016-67-off300&div=t17281016-67#highlight\n",
      "https://www.oldbaileyonline.org/browse.jsp?id=t17281016-19-off104&div=t17281016-19#highlight\n",
      "https://www.oldbaileyonline.org/browse.jsp?id=t17281204-58-off258&div=t17281204-58#highlight\n",
      "Page 3 of search results added.\n",
      "https://www.oldbaileyonline.org/browse.jsp?id=t17290226-83-off280&div=t17290226-83#highlight\n",
      "https://www.oldbaileyonline.org/browse.jsp?id=t17290709-35-off158&div=t17290709-35#highlight\n",
      "https://www.oldbaileyonline.org/browse.jsp?id=t17290827-51-off245&div=t17290827-51#highlight\n",
      "https://www.oldbaileyonline.org/browse.jsp?id=t17300228-64-off312&div=t17300228-64#highlight\n",
      "https://www.oldbaileyonline.org/browse.jsp?id=t17300828-7-off34&div=t17300828-7#highlight\n",
      "https://www.oldbaileyonline.org/browse.jsp?id=t17320223-29-off151&div=t17320223-29#highlight\n",
      "https://www.oldbaileyonline.org/browse.jsp?id=t17331010-7-off28&div=t17331010-7#highlight\n",
      "https://www.oldbaileyonline.org/browse.jsp?id=t17350226-63-off297&div=t17350226-63#highlight\n",
      "https://www.oldbaileyonline.org/browse.jsp?id=o17391205-2-off326&div=o17391205-2#highlight\n",
      "https://www.oldbaileyonline.org/browse.jsp?id=t17400416-27-off160&div=t17400416-27#highlight\n",
      "Page 4 of search results added.\n",
      "https://www.oldbaileyonline.org/browse.jsp?id=s17400903-1-off347&div=s17400903-1#highlight\n",
      "https://www.oldbaileyonline.org/browse.jsp?id=o17400903-1-off345&div=o17400903-1#highlight\n",
      "https://www.oldbaileyonline.org/browse.jsp?id=t17410116-11-off52&div=t17410116-11#highlight\n",
      "https://www.oldbaileyonline.org/browse.jsp?id=t17411014-20-off109&div=t17411014-20#highlight\n",
      "https://www.oldbaileyonline.org/browse.jsp?id=t17430519-22-off119&div=t17430519-22#highlight\n",
      "https://www.oldbaileyonline.org/browse.jsp?id=t17430907-44-off227&div=t17430907-44#highlight\n",
      "https://www.oldbaileyonline.org/browse.jsp?id=t17431207-78-off397&div=t17431207-78#highlight\n",
      "https://www.oldbaileyonline.org/browse.jsp?id=t17440510-4-off23&div=t17440510-4#highlight\n",
      "https://www.oldbaileyonline.org/browse.jsp?id=t17440912-62-off341&div=t17440912-62#highlight\n",
      "https://www.oldbaileyonline.org/browse.jsp?id=t17441017-29-off178&div=t17441017-29#highlight\n",
      "Page 5 of search results added.\n",
      "https://www.oldbaileyonline.org/browse.jsp?id=t17450530-14-off85&div=t17450530-14#highlight\n",
      "https://www.oldbaileyonline.org/browse.jsp?id=t17460903-39-off155&div=t17460903-39#highlight\n",
      "https://www.oldbaileyonline.org/browse.jsp?id=t17461205-26-off113&div=t17461205-26#highlight\n",
      "https://www.oldbaileyonline.org/browse.jsp?id=t17470429-27-off112&div=t17470429-27#highlight\n",
      "https://www.oldbaileyonline.org/browse.jsp?id=t17480115-33-off191&div=t17480115-33#highlight\n",
      "https://www.oldbaileyonline.org/browse.jsp?id=t17490113-40-off190&div=t17490113-40#highlight\n",
      "https://www.oldbaileyonline.org/browse.jsp?id=t17490405-54-off236&div=t17490405-54#highlight\n",
      "https://www.oldbaileyonline.org/browse.jsp?id=t17490906-87-off358&div=t17490906-87#highlight\n",
      "https://www.oldbaileyonline.org/browse.jsp?id=t17490906-7-off27&div=t17490906-7#highlight\n",
      "https://www.oldbaileyonline.org/browse.jsp?id=t17510116-40-off190&div=t17510116-40#highlight\n",
      "Page 6 of search results added.\n",
      "https://www.oldbaileyonline.org/browse.jsp?id=t17510417-58-off284&div=t17510417-58#highlight\n",
      "https://www.oldbaileyonline.org/browse.jsp?id=t17510911-21-off96&div=t17510911-21#highlight\n",
      "https://www.oldbaileyonline.org/browse.jsp?id=t17520219-72-off349&div=t17520219-72#highlight\n",
      "https://www.oldbaileyonline.org/browse.jsp?id=t17520408-55-off285&div=t17520408-55#highlight\n",
      "https://www.oldbaileyonline.org/browse.jsp?id=t17520514-26-off135&div=t17520514-26#highlight\n",
      "https://www.oldbaileyonline.org/browse.jsp?id=t17520514-19-off92&div=t17520514-19#highlight\n",
      "https://www.oldbaileyonline.org/browse.jsp?id=t17520914-56-off283&div=t17520914-56#highlight\n",
      "https://www.oldbaileyonline.org/browse.jsp?id=t17530221-45-off221&div=t17530221-45#highlight\n",
      "https://www.oldbaileyonline.org/browse.jsp?id=t17530607-34-off177&div=t17530607-34#highlight\n",
      "https://www.oldbaileyonline.org/browse.jsp?id=t17531024-56-off258&div=t17531024-56#highlight\n",
      "Page 7 of search results added.\n",
      "https://www.oldbaileyonline.org/browse.jsp?id=t17531205-37-off166&div=t17531205-37#highlight\n",
      "https://www.oldbaileyonline.org/browse.jsp?id=t17540227-9-off47&div=t17540227-9#highlight\n",
      "https://www.oldbaileyonline.org/browse.jsp?id=t17540911-38-off211&div=t17540911-38#highlight\n",
      "https://www.oldbaileyonline.org/browse.jsp?id=t17550702-31-off159&div=t17550702-31#highlight\n",
      "https://www.oldbaileyonline.org/browse.jsp?id=t17561020-44-off207&div=t17561020-44#highlight\n",
      "https://www.oldbaileyonline.org/browse.jsp?id=t17570420-52-off278&div=t17570420-52#highlight\n",
      "https://www.oldbaileyonline.org/browse.jsp?id=t17570526-23-off117&div=t17570526-23#highlight\n",
      "https://www.oldbaileyonline.org/browse.jsp?id=t17570713-27-off129&div=t17570713-27#highlight\n",
      "https://www.oldbaileyonline.org/browse.jsp?id=t17580405-23-off113&div=t17580405-23#highlight\n",
      "https://www.oldbaileyonline.org/browse.jsp?id=t17580913-60-off299&div=t17580913-60#highlight\n",
      "Page 8 of search results added.\n",
      "https://www.oldbaileyonline.org/browse.jsp?id=t17630914-35-off181&div=t17630914-35#highlight\n",
      "https://www.oldbaileyonline.org/browse.jsp?id=t17640502-75-off425&div=t17640502-75#highlight\n",
      "https://www.oldbaileyonline.org/browse.jsp?id=t17640912-13-off68&div=t17640912-13#highlight\n",
      "https://www.oldbaileyonline.org/browse.jsp?id=t17650417-3-off10&div=t17650417-3#highlight\n",
      "https://www.oldbaileyonline.org/browse.jsp?id=t17650918-76-off412&div=t17650918-76#highlight\n",
      "https://www.oldbaileyonline.org/browse.jsp?id=t17660116-26-off164&div=t17660116-26#highlight\n",
      "https://www.oldbaileyonline.org/browse.jsp?id=t17681019-42-off247&div=t17681019-42#highlight\n",
      "https://www.oldbaileyonline.org/browse.jsp?id=t17681207-38-off216&div=t17681207-38#highlight\n",
      "https://www.oldbaileyonline.org/browse.jsp?id=t17690112-31-off197&div=t17690112-31#highlight\n",
      "https://www.oldbaileyonline.org/browse.jsp?id=t17690628-56-off303&div=t17690628-56#highlight\n",
      "Page 9 of search results added.\n",
      "https://www.oldbaileyonline.org/browse.jsp?id=t17691206-24-off144&div=t17691206-24#highlight\n",
      "https://www.oldbaileyonline.org/browse.jsp?id=t17700530-50-off279&div=t17700530-50#highlight\n",
      "https://www.oldbaileyonline.org/browse.jsp?id=t17710220-17-off101&div=t17710220-17#highlight\n",
      "https://www.oldbaileyonline.org/browse.jsp?id=t17711023-69-off335&div=t17711023-69#highlight\n",
      "https://www.oldbaileyonline.org/browse.jsp?id=t17711204-69-off344&div=t17711204-69#highlight\n",
      "https://www.oldbaileyonline.org/browse.jsp?id=t17720603-43-off202&div=t17720603-43#highlight\n",
      "https://www.oldbaileyonline.org/browse.jsp?id=t17720603-67-off291&div=t17720603-67#highlight\n",
      "https://www.oldbaileyonline.org/browse.jsp?id=t17720909-25-off123&div=t17720909-25#highlight\n",
      "https://www.oldbaileyonline.org/browse.jsp?id=t17721021-63-off303&div=t17721021-63#highlight\n",
      "https://www.oldbaileyonline.org/browse.jsp?id=t17721209-60-off302&div=t17721209-60#highlight\n"
     ]
    },
    {
     "name": "stdout",
     "output_type": "stream",
     "text": [
      "Page 10 of search results added.\n",
      "https://www.oldbaileyonline.org/browse.jsp?id=t17721209-59-off299&div=t17721209-59#highlight\n",
      "https://www.oldbaileyonline.org/browse.jsp?id=t17721209-52-off276&div=t17721209-52#highlight\n",
      "https://www.oldbaileyonline.org/browse.jsp?id=t17721209-53-off279&div=t17721209-53#highlight\n",
      "https://www.oldbaileyonline.org/browse.jsp?id=t17721209-61-off312&div=t17721209-61#highlight\n",
      "https://www.oldbaileyonline.org/browse.jsp?id=t17730707-19-off112&div=t17730707-19#highlight\n",
      "https://www.oldbaileyonline.org/browse.jsp?id=t17730908-95-off430&div=t17730908-95#highlight\n",
      "https://www.oldbaileyonline.org/browse.jsp?id=t17730908-24-off119&div=t17730908-24#highlight\n",
      "https://www.oldbaileyonline.org/browse.jsp?id=t17740112-16-off79&div=t17740112-16#highlight\n",
      "https://www.oldbaileyonline.org/browse.jsp?id=t17740216-49-off266&div=t17740216-49#highlight\n",
      "https://www.oldbaileyonline.org/browse.jsp?id=t17740413-87-off437&div=t17740413-87#highlight\n",
      "Page 11 of search results added.\n",
      "https://www.oldbaileyonline.org/browse.jsp?id=t17740518-30-off145&div=t17740518-30#highlight\n",
      "https://www.oldbaileyonline.org/browse.jsp?id=t17740706-10-off43&div=t17740706-10#highlight\n",
      "https://www.oldbaileyonline.org/browse.jsp?id=t17740907-93-off450&div=t17740907-93#highlight\n",
      "https://www.oldbaileyonline.org/browse.jsp?id=t17750111-64-off299&div=t17750111-64#highlight\n",
      "https://www.oldbaileyonline.org/browse.jsp?id=t17750111-51-off244&div=t17750111-51#highlight\n",
      "https://www.oldbaileyonline.org/browse.jsp?id=t17750218-61-off310&div=t17750218-61#highlight\n",
      "https://www.oldbaileyonline.org/browse.jsp?id=t17750218-49-off256&div=t17750218-49#highlight\n",
      "https://www.oldbaileyonline.org/browse.jsp?id=t17750531-4-off22&div=t17750531-4#highlight\n",
      "https://www.oldbaileyonline.org/browse.jsp?id=t17750913-95-off427&div=t17750913-95#highlight\n",
      "https://www.oldbaileyonline.org/browse.jsp?id=t17750913-42-off200&div=t17750913-42#highlight\n",
      "Page 12 of search results added.\n",
      "https://www.oldbaileyonline.org/browse.jsp?id=t17751206-69-off292&div=t17751206-69#highlight\n",
      "https://www.oldbaileyonline.org/browse.jsp?id=t17751206-2-off7&div=t17751206-2#highlight\n",
      "https://www.oldbaileyonline.org/browse.jsp?id=t17760221-57-off315&div=t17760221-57#highlight\n",
      "https://www.oldbaileyonline.org/browse.jsp?id=t17760417-77-off394&div=t17760417-77#highlight\n",
      "https://www.oldbaileyonline.org/browse.jsp?id=t17760417-45-off249&div=t17760417-45#highlight\n",
      "https://www.oldbaileyonline.org/browse.jsp?id=t17760522-40-off176&div=t17760522-40#highlight\n",
      "https://www.oldbaileyonline.org/browse.jsp?id=t17760911-85-off413&div=t17760911-85#highlight\n",
      "https://www.oldbaileyonline.org/browse.jsp?id=t17770115-32-off153&div=t17770115-32#highlight\n",
      "https://www.oldbaileyonline.org/browse.jsp?id=t17770115-48-off239&div=t17770115-48#highlight\n",
      "https://www.oldbaileyonline.org/browse.jsp?id=t17770514-41-off196&div=t17770514-41#highlight\n",
      "Page 13 of search results added.\n",
      "https://www.oldbaileyonline.org/browse.jsp?id=t17780715-89-off427&div=t17780715-89#highlight\n",
      "https://www.oldbaileyonline.org/browse.jsp?id=t17800223-45-off250&div=t17800223-45#highlight\n",
      "https://www.oldbaileyonline.org/browse.jsp?id=t17821016-34-off182&div=t17821016-34#highlight\n",
      "https://www.oldbaileyonline.org/browse.jsp?id=t17821016-35-off185&div=t17821016-35#highlight\n",
      "https://www.oldbaileyonline.org/browse.jsp?id=t17821204-84-off408&div=t17821204-84#highlight\n",
      "https://www.oldbaileyonline.org/browse.jsp?id=t17830910-26-off145&div=t17830910-26#highlight\n",
      "https://www.oldbaileyonline.org/browse.jsp?id=t17830910-27-off150&div=t17830910-27#highlight\n",
      "https://www.oldbaileyonline.org/browse.jsp?id=t17830910-24-off133&div=t17830910-24#highlight\n",
      "https://www.oldbaileyonline.org/browse.jsp?id=t17830910-28-off157&div=t17830910-28#highlight\n",
      "https://www.oldbaileyonline.org/browse.jsp?id=t17830910-41-off241&div=t17830910-41#highlight\n",
      "Page 14 of search results added.\n",
      "https://www.oldbaileyonline.org/browse.jsp?id=t17830910-60-off346&div=t17830910-60#highlight\n",
      "https://www.oldbaileyonline.org/browse.jsp?id=o17830910-1-off652&div=o17830910-1#highlight\n",
      "https://www.oldbaileyonline.org/browse.jsp?id=t17830910-25-off139&div=t17830910-25#highlight\n",
      "https://www.oldbaileyonline.org/browse.jsp?id=t17830910-15-off83&div=t17830910-15#highlight\n",
      "https://www.oldbaileyonline.org/browse.jsp?id=t17830910-23-off127&div=t17830910-23#highlight\n",
      "https://www.oldbaileyonline.org/browse.jsp?id=t17830910-22-off120&div=t17830910-22#highlight\n",
      "https://www.oldbaileyonline.org/browse.jsp?id=t17830910-4-off22&div=t17830910-4#highlight\n",
      "https://www.oldbaileyonline.org/browse.jsp?id=t17830910-5-off27&div=t17830910-5#highlight\n",
      "https://www.oldbaileyonline.org/browse.jsp?id=t17830910-6-off32&div=t17830910-6#highlight\n",
      "https://www.oldbaileyonline.org/browse.jsp?id=t17830910-7-off38&div=t17830910-7#highlight\n",
      "Page 15 of search results added.\n",
      "https://www.oldbaileyonline.org/browse.jsp?id=t17830910-8-off44&div=t17830910-8#highlight\n",
      "https://www.oldbaileyonline.org/browse.jsp?id=t17830910-9-off50&div=t17830910-9#highlight\n",
      "https://www.oldbaileyonline.org/browse.jsp?id=t17830910-10-off56&div=t17830910-10#highlight\n",
      "https://www.oldbaileyonline.org/browse.jsp?id=t17830910-11-off61&div=t17830910-11#highlight\n",
      "https://www.oldbaileyonline.org/browse.jsp?id=t17830910-12-off67&div=t17830910-12#highlight\n",
      "https://www.oldbaileyonline.org/browse.jsp?id=t17830910-13-off73&div=t17830910-13#highlight\n",
      "https://www.oldbaileyonline.org/browse.jsp?id=t17830910-21-off113&div=t17830910-21#highlight\n",
      "https://www.oldbaileyonline.org/browse.jsp?id=t17830910-20-off106&div=t17830910-20#highlight\n",
      "https://www.oldbaileyonline.org/browse.jsp?id=t17830910-19-off100&div=t17830910-19#highlight\n",
      "https://www.oldbaileyonline.org/browse.jsp?id=t17830910-18-off94&div=t17830910-18#highlight\n",
      "Page 16 of search results added.\n",
      "https://www.oldbaileyonline.org/browse.jsp?id=t17830910-17-off91&div=t17830910-17#highlight\n",
      "https://www.oldbaileyonline.org/browse.jsp?id=t17830910-14-off79&div=t17830910-14#highlight\n",
      "https://www.oldbaileyonline.org/browse.jsp?id=t17830910-16-off87&div=t17830910-16#highlight\n",
      "https://www.oldbaileyonline.org/browse.jsp?id=t17831029-86-off430&div=t17831029-86#highlight\n",
      "https://www.oldbaileyonline.org/browse.jsp?id=t17831029-87-off434&div=t17831029-87#highlight\n",
      "https://www.oldbaileyonline.org/browse.jsp?id=t17831029-88-off438&div=t17831029-88#highlight\n",
      "https://www.oldbaileyonline.org/browse.jsp?id=t17831029-89-off442&div=t17831029-89#highlight\n",
      "https://www.oldbaileyonline.org/browse.jsp?id=t17831210-28-off159&div=t17831210-28#highlight\n",
      "https://www.oldbaileyonline.org/browse.jsp?id=t17831210-27-off155&div=t17831210-27#highlight\n",
      "https://www.oldbaileyonline.org/browse.jsp?id=t17831210-29-off164&div=t17831210-29#highlight\n",
      "Page 17 of search results added.\n",
      "https://www.oldbaileyonline.org/browse.jsp?id=t17840114-69-off370&div=t17840114-69#highlight\n",
      "https://www.oldbaileyonline.org/browse.jsp?id=t17840114-51-off273&div=t17840114-51#highlight\n",
      "https://www.oldbaileyonline.org/browse.jsp?id=t17840526-59-off267&div=t17840526-59#highlight\n",
      "https://www.oldbaileyonline.org/browse.jsp?id=t17840526-58-off263&div=t17840526-58#highlight\n",
      "https://www.oldbaileyonline.org/browse.jsp?id=t17840707-100-off491&div=t17840707-100#highlight\n",
      "https://www.oldbaileyonline.org/browse.jsp?id=t17840707-6-off27&div=t17840707-6#highlight\n",
      "https://www.oldbaileyonline.org/browse.jsp?id=t17840915-54-off266&div=t17840915-54#highlight\n",
      "https://www.oldbaileyonline.org/browse.jsp?id=t17841020-79-off362&div=t17841020-79#highlight\n",
      "https://www.oldbaileyonline.org/browse.jsp?id=t17841020-71-off325&div=t17841020-71#highlight\n",
      "https://www.oldbaileyonline.org/browse.jsp?id=t17841208-67-off348&div=t17841208-67#highlight\n",
      "Page 18 of search results added.\n",
      "https://www.oldbaileyonline.org/browse.jsp?id=t17850223-14-off72&div=t17850223-14#highlight\n",
      "https://www.oldbaileyonline.org/browse.jsp?id=t17850223-57-off252&div=t17850223-57#highlight\n",
      "https://www.oldbaileyonline.org/browse.jsp?id=t17850223-75-off342&div=t17850223-75#highlight\n",
      "https://www.oldbaileyonline.org/browse.jsp?id=t17850406-83-off396&div=t17850406-83#highlight\n",
      "https://www.oldbaileyonline.org/browse.jsp?id=t17850511-10-off55&div=t17850511-10#highlight\n",
      "https://www.oldbaileyonline.org/browse.jsp?id=t17850629-107-off518&div=t17850629-107#highlight\n",
      "https://www.oldbaileyonline.org/browse.jsp?id=t17850914-181-off834&div=t17850914-181#highlight\n",
      "https://www.oldbaileyonline.org/browse.jsp?id=t17850914-182-off837&div=t17850914-182#highlight\n",
      "https://www.oldbaileyonline.org/browse.jsp?id=t17860222-61-off332&div=t17860222-61#highlight\n",
      "https://www.oldbaileyonline.org/browse.jsp?id=t17860719-49-off240&div=t17860719-49#highlight\n"
     ]
    },
    {
     "name": "stdout",
     "output_type": "stream",
     "text": [
      "Page 19 of search results added.\n",
      "https://www.oldbaileyonline.org/browse.jsp?id=t17860719-38-off186&div=t17860719-38#highlight\n",
      "https://www.oldbaileyonline.org/browse.jsp?id=t17861025-47-off265&div=t17861025-47#highlight\n",
      "https://www.oldbaileyonline.org/browse.jsp?id=t17861213-133-off667&div=t17861213-133#highlight\n",
      "https://www.oldbaileyonline.org/browse.jsp?id=t17861213-31-off162&div=t17861213-31#highlight\n",
      "https://www.oldbaileyonline.org/browse.jsp?id=t17870110-3-off8&div=t17870110-3#highlight\n",
      "https://www.oldbaileyonline.org/browse.jsp?id=t17870221-24-off131&div=t17870221-24#highlight\n",
      "https://www.oldbaileyonline.org/browse.jsp?id=t17880109-39-off196&div=t17880109-39#highlight\n",
      "https://www.oldbaileyonline.org/browse.jsp?id=t17880507-44-off203&div=t17880507-44#highlight\n",
      "https://www.oldbaileyonline.org/browse.jsp?id=t17880625-22-off102&div=t17880625-22#highlight\n",
      "https://www.oldbaileyonline.org/browse.jsp?id=t17880910-23-off103&div=t17880910-23#highlight\n",
      "Page 20 of search results added.\n",
      "https://www.oldbaileyonline.org/browse.jsp?id=t17890114-43-off204&div=t17890114-43#highlight\n",
      "https://www.oldbaileyonline.org/browse.jsp?id=t17890114-18-off89&div=t17890114-18#highlight\n",
      "https://www.oldbaileyonline.org/browse.jsp?id=t17891209-89-off421&div=t17891209-89#highlight\n",
      "https://www.oldbaileyonline.org/browse.jsp?id=t17891209-88-off416&div=t17891209-88#highlight\n",
      "https://www.oldbaileyonline.org/browse.jsp?id=t17900113-95-off498&div=t17900113-95#highlight\n",
      "https://www.oldbaileyonline.org/browse.jsp?id=t17900224-75-off418&div=t17900224-75#highlight\n",
      "https://www.oldbaileyonline.org/browse.jsp?id=t17900424-96-off514&div=t17900424-96#highlight\n",
      "https://www.oldbaileyonline.org/browse.jsp?id=t17901208-4-off17&div=t17901208-4#highlight\n",
      "https://www.oldbaileyonline.org/browse.jsp?id=t17910413-9-off43&div=t17910413-9#highlight\n",
      "https://www.oldbaileyonline.org/browse.jsp?id=t17920329-61-off346&div=t17920329-61#highlight\n",
      "Page 21 of search results added.\n",
      "https://www.oldbaileyonline.org/browse.jsp?id=t17920912-18-off96&div=t17920912-18#highlight\n",
      "https://www.oldbaileyonline.org/browse.jsp?id=t17921031-7-off39&div=t17921031-7#highlight\n",
      "https://www.oldbaileyonline.org/browse.jsp?id=t17921215-18-off105&div=t17921215-18#highlight\n",
      "https://www.oldbaileyonline.org/browse.jsp?id=t17940115-36-off187&div=t17940115-36#highlight\n",
      "https://www.oldbaileyonline.org/browse.jsp?id=t17940219-63-off355&div=t17940219-63#highlight\n",
      "https://www.oldbaileyonline.org/browse.jsp?id=t17960113-61-off348&div=t17960113-61#highlight\n",
      "https://www.oldbaileyonline.org/browse.jsp?id=t17960217-24-off142&div=t17960217-24#highlight\n",
      "https://www.oldbaileyonline.org/browse.jsp?id=t17960217-33-off190&div=t17960217-33#highlight\n",
      "https://www.oldbaileyonline.org/browse.jsp?id=t17960217-32-off187&div=t17960217-32#highlight\n",
      "https://www.oldbaileyonline.org/browse.jsp?id=t17960406-48-off277&div=t17960406-48#highlight\n",
      "Page 22 of search results added.\n",
      "https://www.oldbaileyonline.org/browse.jsp?id=t17960406-49-off281&div=t17960406-49#highlight\n",
      "https://www.oldbaileyonline.org/browse.jsp?id=t17960406-47-off273&div=t17960406-47#highlight\n",
      "https://www.oldbaileyonline.org/browse.jsp?id=t17960511-46-off243&div=t17960511-46#highlight\n",
      "https://www.oldbaileyonline.org/browse.jsp?id=t17960622-24-off137&div=t17960622-24#highlight\n",
      "https://www.oldbaileyonline.org/browse.jsp?id=t17960622-58-off335&div=t17960622-58#highlight\n",
      "https://www.oldbaileyonline.org/browse.jsp?id=t17960914-77-off436&div=t17960914-77#highlight\n",
      "https://www.oldbaileyonline.org/browse.jsp?id=t17960914-2-off6&div=t17960914-2#highlight\n",
      "https://www.oldbaileyonline.org/browse.jsp?id=t17970111-2-off7&div=t17970111-2#highlight\n",
      "https://www.oldbaileyonline.org/browse.jsp?id=t17970426-40-off221&div=t17970426-40#highlight\n",
      "https://www.oldbaileyonline.org/browse.jsp?id=t17970531-33-off188&div=t17970531-33#highlight\n",
      "Page 23 of search results added.\n",
      "https://www.oldbaileyonline.org/browse.jsp?id=t17970531-31-off176&div=t17970531-31#highlight\n",
      "https://www.oldbaileyonline.org/browse.jsp?id=t17970712-38-off209&div=t17970712-38#highlight\n",
      "https://www.oldbaileyonline.org/browse.jsp?id=t17970920-10-off45&div=t17970920-10#highlight\n",
      "https://www.oldbaileyonline.org/browse.jsp?id=t17971025-33-off168&div=t17971025-33#highlight\n",
      "https://www.oldbaileyonline.org/browse.jsp?id=t17971206-58-off309&div=t17971206-58#highlight\n",
      "https://www.oldbaileyonline.org/browse.jsp?id=t17980704-14-off53&div=t17980704-14#highlight\n",
      "https://www.oldbaileyonline.org/browse.jsp?id=t17980704-12-off46&div=t17980704-12#highlight\n",
      "https://www.oldbaileyonline.org/browse.jsp?id=t17980912-62-off366&div=t17980912-62#highlight\n",
      "https://www.oldbaileyonline.org/browse.jsp?id=t17981205-23-off116&div=t17981205-23#highlight\n",
      "https://www.oldbaileyonline.org/browse.jsp?id=t17981205-68-off359&div=t17981205-68#highlight\n",
      "Page 24 of search results added.\n",
      "https://www.oldbaileyonline.org/browse.jsp?id=t17990220-40-off210&div=t17990220-40#highlight\n",
      "https://www.oldbaileyonline.org/browse.jsp?id=t17990911-41-off211&div=t17990911-41#highlight\n",
      "https://www.oldbaileyonline.org/browse.jsp?id=t17991030-59-off339&div=t17991030-59#highlight\n",
      "https://www.oldbaileyonline.org/browse.jsp?id=t18000709-40-off207&div=t18000709-40#highlight\n",
      "https://www.oldbaileyonline.org/browse.jsp?id=t18000709-12-off63&div=t18000709-12#highlight\n",
      "https://www.oldbaileyonline.org/browse.jsp?id=t18010916-31-off152&div=t18010916-31#highlight\n",
      "https://www.oldbaileyonline.org/browse.jsp?id=t18020918-67-off349&div=t18020918-67#highlight\n",
      "https://www.oldbaileyonline.org/browse.jsp?id=t18021201-47-off263&div=t18021201-47#highlight\n",
      "https://www.oldbaileyonline.org/browse.jsp?id=t18030112-62-off337&div=t18030112-62#highlight\n",
      "https://www.oldbaileyonline.org/browse.jsp?id=t18030216-15-off84&div=t18030216-15#highlight\n",
      "Page 25 of search results added.\n",
      "https://www.oldbaileyonline.org/browse.jsp?id=t18030706-36-off199&div=t18030706-36#highlight\n",
      "https://www.oldbaileyonline.org/browse.jsp?id=t18030914-83-off480&div=t18030914-83#highlight\n",
      "https://www.oldbaileyonline.org/browse.jsp?id=t18031130-45-off272&div=t18031130-45#highlight\n",
      "https://www.oldbaileyonline.org/browse.jsp?id=t18031130-19-off115&div=t18031130-19#highlight\n",
      "https://www.oldbaileyonline.org/browse.jsp?id=t18040215-37-off201&div=t18040215-37#highlight\n",
      "https://www.oldbaileyonline.org/browse.jsp?id=t18040516-47-off265&div=t18040516-47#highlight\n",
      "https://www.oldbaileyonline.org/browse.jsp?id=t18040912-67-off399&div=t18040912-67#highlight\n",
      "https://www.oldbaileyonline.org/browse.jsp?id=t18040912-5-off26&div=t18040912-5#highlight\n",
      "https://www.oldbaileyonline.org/browse.jsp?id=t18050109-38-off198&div=t18050109-38#highlight\n",
      "https://www.oldbaileyonline.org/browse.jsp?id=t18050424-5-off25&div=t18050424-5#highlight\n",
      "Page 26 of search results added.\n",
      "https://www.oldbaileyonline.org/browse.jsp?id=t18050710-23-off136&div=t18050710-23#highlight\n",
      "https://www.oldbaileyonline.org/browse.jsp?id=t18050918-82-off431&div=t18050918-82#highlight\n",
      "https://www.oldbaileyonline.org/browse.jsp?id=t18050918-99-off525&div=t18050918-99#highlight\n",
      "https://www.oldbaileyonline.org/browse.jsp?id=t18050918-61-off320&div=t18050918-61#highlight\n",
      "https://www.oldbaileyonline.org/browse.jsp?id=t18051030-9-off48&div=t18051030-9#highlight\n",
      "https://www.oldbaileyonline.org/browse.jsp?id=t18051030-46-off245&div=t18051030-46#highlight\n",
      "https://www.oldbaileyonline.org/browse.jsp?id=t18051030-49-off254&div=t18051030-49#highlight\n",
      "https://www.oldbaileyonline.org/browse.jsp?id=t18051204-47-off295&div=t18051204-47#highlight\n",
      "https://www.oldbaileyonline.org/browse.jsp?id=t18060115-4-off17&div=t18060115-4#highlight\n",
      "https://www.oldbaileyonline.org/browse.jsp?id=t18060416-55-off318&div=t18060416-55#highlight\n",
      "Page 27 of search results added.\n",
      "https://www.oldbaileyonline.org/browse.jsp?id=t18060917-35-off186&div=t18060917-35#highlight\n",
      "https://www.oldbaileyonline.org/browse.jsp?id=t18060917-11-off54&div=t18060917-11#highlight\n",
      "https://www.oldbaileyonline.org/browse.jsp?id=t18070114-95-off584&div=t18070114-95#highlight\n",
      "https://www.oldbaileyonline.org/browse.jsp?id=t18070701-5-off30&div=t18070701-5#highlight\n",
      "https://www.oldbaileyonline.org/browse.jsp?id=t18070701-6-off35&div=t18070701-6#highlight\n",
      "https://www.oldbaileyonline.org/browse.jsp?id=t18081126-29-off147&div=t18081126-29#highlight\n",
      "https://www.oldbaileyonline.org/browse.jsp?id=t18081126-28-off143&div=t18081126-28#highlight\n",
      "https://www.oldbaileyonline.org/browse.jsp?id=t18081130-4-off15&div=t18081130-4#highlight\n",
      "https://www.oldbaileyonline.org/browse.jsp?id=t18081130-39-off215&div=t18081130-39#highlight\n",
      "https://www.oldbaileyonline.org/browse.jsp?id=t18090111-30-off172&div=t18090111-30#highlight\n"
     ]
    },
    {
     "name": "stdout",
     "output_type": "stream",
     "text": [
      "Page 28 of search results added.\n",
      "https://www.oldbaileyonline.org/browse.jsp?id=t18090626-58-off339&div=t18090626-58#highlight\n",
      "https://www.oldbaileyonline.org/browse.jsp?id=t18091206-52-off309&div=t18091206-52#highlight\n",
      "https://www.oldbaileyonline.org/browse.jsp?id=t18100221-70-off407&div=t18100221-70#highlight\n",
      "https://www.oldbaileyonline.org/browse.jsp?id=t18100718-55-off324&div=t18100718-55#highlight\n",
      "https://www.oldbaileyonline.org/browse.jsp?id=t18100718-11-off58&div=t18100718-11#highlight\n",
      "https://www.oldbaileyonline.org/browse.jsp?id=t18110403-38-off221&div=t18110403-38#highlight\n",
      "https://www.oldbaileyonline.org/browse.jsp?id=t18110918-70-off375&div=t18110918-70#highlight\n",
      "https://www.oldbaileyonline.org/browse.jsp?id=t18111030-56-off304&div=t18111030-56#highlight\n",
      "https://www.oldbaileyonline.org/browse.jsp?id=t18111030-51-off285&div=t18111030-51#highlight\n",
      "https://www.oldbaileyonline.org/browse.jsp?id=t18120115-80-off469&div=t18120115-80#highlight\n",
      "Page 29 of search results added.\n",
      "https://www.oldbaileyonline.org/browse.jsp?id=t18120115-77-off451&div=t18120115-77#highlight\n",
      "https://www.oldbaileyonline.org/browse.jsp?id=t18120219-4-off20&div=t18120219-4#highlight\n",
      "https://www.oldbaileyonline.org/browse.jsp?id=t18120408-57-off315&div=t18120408-57#highlight\n",
      "https://www.oldbaileyonline.org/browse.jsp?id=t18121202-6-off28&div=t18121202-6#highlight\n",
      "https://www.oldbaileyonline.org/browse.jsp?id=t18130113-33-off182&div=t18130113-33#highlight\n",
      "https://www.oldbaileyonline.org/browse.jsp?id=t18130113-37-off203&div=t18130113-37#highlight\n",
      "https://www.oldbaileyonline.org/browse.jsp?id=t18130714-39-off236&div=t18130714-39#highlight\n",
      "https://www.oldbaileyonline.org/browse.jsp?id=t18130714-1-off1&div=t18130714-1#highlight\n",
      "https://www.oldbaileyonline.org/browse.jsp?id=t18131201-17-off96&div=t18131201-17#highlight\n",
      "https://www.oldbaileyonline.org/browse.jsp?id=t18140216-9-off46&div=t18140216-9#highlight\n",
      "Page 30 of search results added.\n",
      "https://www.oldbaileyonline.org/browse.jsp?id=t18140420-99-off537&div=t18140420-99#highlight\n",
      "https://www.oldbaileyonline.org/browse.jsp?id=t18140706-37-off212&div=t18140706-37#highlight\n",
      "https://www.oldbaileyonline.org/browse.jsp?id=t18150215-18-off94&div=t18150215-18#highlight\n",
      "https://www.oldbaileyonline.org/browse.jsp?id=t18150405-21-off118&div=t18150405-21#highlight\n",
      "https://www.oldbaileyonline.org/browse.jsp?id=t18150913-156-off904&div=t18150913-156#highlight\n",
      "https://www.oldbaileyonline.org/browse.jsp?id=t18151206-14-off73&div=t18151206-14#highlight\n",
      "https://www.oldbaileyonline.org/browse.jsp?id=t18161204-3-off9&div=t18161204-3#highlight\n",
      "https://www.oldbaileyonline.org/browse.jsp?id=t18170115-1-off1&div=t18170115-1#highlight\n",
      "https://www.oldbaileyonline.org/browse.jsp?id=t18170917-40-off198&div=t18170917-40#highlight\n",
      "https://www.oldbaileyonline.org/browse.jsp?id=t18181028-7-off40&div=t18181028-7#highlight\n",
      "Page 31 of search results added.\n",
      "https://www.oldbaileyonline.org/browse.jsp?id=t18200112-11-off59&div=t18200112-11#highlight\n",
      "https://www.oldbaileyonline.org/browse.jsp?id=t18200217-39-off226&div=t18200217-39#highlight\n",
      "https://www.oldbaileyonline.org/browse.jsp?id=t18210110-22-off128&div=t18210110-22#highlight\n",
      "https://www.oldbaileyonline.org/browse.jsp?id=t18210411-74-off441&div=t18210411-74#highlight\n",
      "https://www.oldbaileyonline.org/browse.jsp?id=t18210606-18-off102&div=t18210606-18#highlight\n",
      "https://www.oldbaileyonline.org/browse.jsp?id=t18210606-76-off440&div=t18210606-76#highlight\n",
      "https://www.oldbaileyonline.org/browse.jsp?id=t18210718-65-off377&div=t18210718-65#highlight\n",
      "https://www.oldbaileyonline.org/browse.jsp?id=t18210912-83-off466&div=t18210912-83#highlight\n",
      "https://www.oldbaileyonline.org/browse.jsp?id=t18220522-1-off2&div=t18220522-1#highlight\n",
      "https://www.oldbaileyonline.org/browse.jsp?id=t18220911-63-off348&div=t18220911-63#highlight\n",
      "Page 32 of search results added.\n",
      "https://www.oldbaileyonline.org/browse.jsp?id=t18221204-2-off6&div=t18221204-2#highlight\n",
      "https://www.oldbaileyonline.org/browse.jsp?id=t18230910-69-off387&div=t18230910-69#highlight\n",
      "https://www.oldbaileyonline.org/browse.jsp?id=t18231203-53-off284&div=t18231203-53#highlight\n",
      "https://www.oldbaileyonline.org/browse.jsp?id=t18240916-191-off1039&div=t18240916-191#highlight\n",
      "https://www.oldbaileyonline.org/browse.jsp?id=t18250630-60-off297&div=t18250630-60#highlight\n",
      "https://www.oldbaileyonline.org/browse.jsp?id=t18260112-31-off188&div=t18260112-31#highlight\n",
      "https://www.oldbaileyonline.org/browse.jsp?id=t18260112-26-off154&div=t18260112-26#highlight\n",
      "https://www.oldbaileyonline.org/browse.jsp?id=t18260112-18-off105&div=t18260112-18#highlight\n",
      "https://www.oldbaileyonline.org/browse.jsp?id=t18260406-1-off1&div=t18260406-1#highlight\n",
      "https://www.oldbaileyonline.org/browse.jsp?id=t18260406-78-off420&div=t18260406-78#highlight\n",
      "Page 33 of search results added.\n",
      "https://www.oldbaileyonline.org/browse.jsp?id=t18260914-22-off118&div=t18260914-22#highlight\n",
      "https://www.oldbaileyonline.org/browse.jsp?id=t18260914-17-off88&div=t18260914-17#highlight\n",
      "https://www.oldbaileyonline.org/browse.jsp?id=t18261026-3-off9&div=t18261026-3#highlight\n",
      "https://www.oldbaileyonline.org/browse.jsp?id=t18270215-13-off66&div=t18270215-13#highlight\n",
      "https://www.oldbaileyonline.org/browse.jsp?id=t18270913-48-off295&div=t18270913-48#highlight\n",
      "https://www.oldbaileyonline.org/browse.jsp?id=t18271025-12-off75&div=t18271025-12#highlight\n",
      "https://www.oldbaileyonline.org/browse.jsp?id=t18271025-1-off1&div=t18271025-1#highlight\n",
      "https://www.oldbaileyonline.org/browse.jsp?id=t18271206-42-off202&div=t18271206-42#highlight\n",
      "https://www.oldbaileyonline.org/browse.jsp?id=t18281023-30-off187&div=t18281023-30#highlight\n",
      "https://www.oldbaileyonline.org/browse.jsp?id=t18281204-118-off619&div=t18281204-118#highlight\n",
      "Page 34 of search results added.\n",
      "https://www.oldbaileyonline.org/browse.jsp?id=t18290219-162-off929&div=t18290219-162#highlight\n",
      "https://www.oldbaileyonline.org/browse.jsp?id=t18290611-272-off1422&div=t18290611-272#highlight\n",
      "https://www.oldbaileyonline.org/browse.jsp?id=t18290611-201-off1056&div=t18290611-201#highlight\n",
      "https://www.oldbaileyonline.org/browse.jsp?id=t18300708-2-off10&div=t18300708-2#highlight\n",
      "https://www.oldbaileyonline.org/browse.jsp?id=t18300916-4-off22&div=t18300916-4#highlight\n",
      "https://www.oldbaileyonline.org/browse.jsp?id=t18320216-6-off28&div=t18320216-6#highlight\n",
      "https://www.oldbaileyonline.org/browse.jsp?id=t18330516-1-off3&div=t18330516-1#highlight\n",
      "https://www.oldbaileyonline.org/browse.jsp?id=t18331017-6-off35&div=t18331017-6#highlight\n",
      "https://www.oldbaileyonline.org/browse.jsp?id=t18340703-1-off1&div=t18340703-1#highlight\n",
      "https://www.oldbaileyonline.org/browse.jsp?id=t18340904-178-off1001&div=t18340904-178#highlight\n",
      "Page 35 of search results added.\n",
      "https://www.oldbaileyonline.org/browse.jsp?id=t18340904-5-off31&div=t18340904-5#highlight\n",
      "https://www.oldbaileyonline.org/browse.jsp?id=t18341124-67-offence-1&div=t18341124-67#highlight\n",
      "https://www.oldbaileyonline.org/browse.jsp?id=t18360201-454-offence-1&div=t18360201-454#highlight\n",
      "https://www.oldbaileyonline.org/browse.jsp?id=t18370403-1060-offence-1&div=t18370403-1060#highlight\n",
      "https://www.oldbaileyonline.org/browse.jsp?id=t18381126-137-offence-1&div=t18381126-137#highlight\n",
      "https://www.oldbaileyonline.org/browse.jsp?id=t18391216-382-offence-1&div=t18391216-382#highlight\n",
      "https://www.oldbaileyonline.org/browse.jsp?id=t18400302-860-offence-1&div=t18400302-860#highlight\n",
      "https://www.oldbaileyonline.org/browse.jsp?id=t18400406-1198-offence-1&div=t18400406-1198#highlight\n",
      "https://www.oldbaileyonline.org/browse.jsp?id=t18410405-1128-offence-1&div=t18410405-1128#highlight\n",
      "https://www.oldbaileyonline.org/browse.jsp?id=t18410510-1516-offence-1&div=t18410510-1516#highlight\n",
      "Page 36 of search results added.\n",
      "https://www.oldbaileyonline.org/browse.jsp?id=t18420131-838-offence-1&div=t18420131-838#highlight\n",
      "https://www.oldbaileyonline.org/browse.jsp?id=t18420919-2611-offence-1&div=t18420919-2611#highlight\n",
      "https://www.oldbaileyonline.org/browse.jsp?id=t18430403-1140-offence-1&div=t18430403-1140#highlight\n",
      "https://www.oldbaileyonline.org/browse.jsp?id=t18451124-31-offence-1&div=t18451124-31#highlight\n",
      "https://www.oldbaileyonline.org/browse.jsp?id=t18480612-1587-offence-1&div=t18480612-1587#highlight\n",
      "https://www.oldbaileyonline.org/browse.jsp?id=t18480821-2039-offence-1&div=t18480821-2039#highlight\n",
      "https://www.oldbaileyonline.org/browse.jsp?id=t18481023-2289-offence-1&div=t18481023-2289#highlight\n",
      "https://www.oldbaileyonline.org/browse.jsp?id=t18500107-299-offence-1&div=t18500107-299#highlight\n",
      "https://www.oldbaileyonline.org/browse.jsp?id=t18500819-1393-offence-1&div=t18500819-1393#highlight\n",
      "https://www.oldbaileyonline.org/browse.jsp?id=t18500916-1595-offence-1&div=t18500916-1595#highlight\n"
     ]
    },
    {
     "name": "stdout",
     "output_type": "stream",
     "text": [
      "Page 37 of search results added.\n",
      "https://www.oldbaileyonline.org/browse.jsp?id=t18501021-1777-offence-1&div=t18501021-1777#highlight\n",
      "https://www.oldbaileyonline.org/browse.jsp?id=t18501125-122-offence-1&div=t18501125-122#highlight\n",
      "https://www.oldbaileyonline.org/browse.jsp?id=t18510512-1106-offence-1&div=t18510512-1106#highlight\n",
      "https://www.oldbaileyonline.org/browse.jsp?id=t18510512-1105-offence-1&div=t18510512-1105#highlight\n",
      "https://www.oldbaileyonline.org/browse.jsp?id=t18510616-1272-offence-1&div=t18510616-1272#highlight\n",
      "https://www.oldbaileyonline.org/browse.jsp?id=t18520202-275-offence-1&div=t18520202-275#highlight\n",
      "https://www.oldbaileyonline.org/browse.jsp?id=t18530815-889-offence-1&div=t18530815-889#highlight\n",
      "https://www.oldbaileyonline.org/browse.jsp?id=t18540227-445-offence-1&div=t18540227-445#highlight\n",
      "https://www.oldbaileyonline.org/browse.jsp?id=t18540227-365-offence-1&div=t18540227-365#highlight\n",
      "https://www.oldbaileyonline.org/browse.jsp?id=t18550702-709-offence-1&div=t18550702-709#highlight\n",
      "Page 38 of search results added.\n",
      "https://www.oldbaileyonline.org/browse.jsp?id=t18560204-240-offence-1&div=t18560204-240#highlight\n",
      "https://www.oldbaileyonline.org/browse.jsp?id=t18560514-505-offence-1&div=t18560514-505#highlight\n",
      "https://www.oldbaileyonline.org/browse.jsp?id=t18570105-241-offence-1&div=t18570105-241#highlight\n",
      "https://www.oldbaileyonline.org/browse.jsp?id=t18590613-589-offence-1&div=t18590613-589#highlight\n",
      "https://www.oldbaileyonline.org/browse.jsp?id=t18590919-803-offence-1&div=t18590919-803#highlight\n",
      "https://www.oldbaileyonline.org/browse.jsp?id=t18611216-109-offence-1&div=t18611216-109#highlight\n",
      "https://www.oldbaileyonline.org/browse.jsp?id=t18620818-794-offence-1&div=t18620818-794#highlight\n",
      "https://www.oldbaileyonline.org/browse.jsp?id=t18631130-44-offence-1&div=t18631130-44#highlight\n",
      "https://www.oldbaileyonline.org/browse.jsp?id=t18640104-204-offence-1&div=t18640104-204#highlight\n",
      "https://www.oldbaileyonline.org/browse.jsp?id=t18690301-311-offence-1&div=t18690301-311#highlight\n",
      "Page 39 of search results added.\n",
      "https://www.oldbaileyonline.org/browse.jsp?id=t18810502-481-offence-1&div=t18810502-481#highlight\n",
      "Page 40 of search results added.\n",
      "https://www.oldbaileyonline.org/browse.jsp?id=t17200907-43-off219&div=t17200907-43#highlight\n",
      "https://www.oldbaileyonline.org/browse.jsp?id=t17200907-44-off223&div=t17200907-44#highlight\n",
      "https://www.oldbaileyonline.org/browse.jsp?id=t17201012-34-off193&div=t17201012-34#highlight\n",
      "https://www.oldbaileyonline.org/browse.jsp?id=t17210113-46-off243&div=t17210113-46#highlight\n",
      "https://www.oldbaileyonline.org/browse.jsp?id=t17210301-61-off333&div=t17210301-61#highlight\n",
      "https://www.oldbaileyonline.org/browse.jsp?id=t17210525-19-off96&div=t17210525-19#highlight\n",
      "https://www.oldbaileyonline.org/browse.jsp?id=t17210525-1-off7&div=t17210525-1#highlight\n",
      "https://www.oldbaileyonline.org/browse.jsp?id=t17210712-21-off102&div=t17210712-21#highlight\n",
      "https://www.oldbaileyonline.org/browse.jsp?id=t17210830-31-off162&div=t17210830-31#highlight\n",
      "https://www.oldbaileyonline.org/browse.jsp?id=t17211206-69-off331&div=t17211206-69#highlight\n"
     ]
    }
   ],
   "source": [
    "#n.b. we gotta keep these outside for-loops\n",
    "\n",
    "list_trial_urls = []\n",
    "counter = 0\n",
    "\n",
    "for url_ in list_urls:\n",
    "    counter += 1\n",
    "    \n",
    "    #get url and soup the page\n",
    "    url = url_\n",
    "    req = requests.get(url,timeout=20)\n",
    "    req.html = req.text\n",
    "    soup = BeautifulSoup(req.html,\"html.parser\")\n",
    "    \n",
    "    print('Page',counter,'of search results added.')\n",
    "    \n",
    "    #then get the trial urls and add them to big list of trial urls\n",
    "    for a_tag in soup.find_all('a', href = re.compile('#highlight')):\n",
    "    #    list_urls_page = []\n",
    "        print('https://www.oldbaileyonline.org/'+a_tag['href'])\n",
    "        list_trial_urls.append('https://www.oldbaileyonline.org/'+a_tag['href'])\n",
    "    \n",
    "    \n",
    "    "
   ]
  },
  {
   "cell_type": "code",
   "execution_count": 85,
   "metadata": {},
   "outputs": [
    {
     "data": {
      "text/plain": [
       "391"
      ]
     },
     "execution_count": 85,
     "metadata": {},
     "output_type": "execute_result"
    }
   ],
   "source": [
    "#sanity check: should be 391\n",
    "len(set(list_trial_urls))"
   ]
  },
  {
   "cell_type": "markdown",
   "metadata": {},
   "source": [
    "<font color=darkgreen>\n",
    "    \n",
    "Check if list url is the last on page '39':\n",
    "\n",
    "https://www.oldbaileyonline.org/browse.jsp?id=t18810502-481-offence-1&div=t18810502-481#highlight"
   ]
  },
  {
   "cell_type": "markdown",
   "metadata": {},
   "source": [
    "<font color=darkgreen>\n",
    "    \n",
    "## 4. Last step! Now we loop through all the urls of trials, extract the information in question, and save them to two Py lists, and then we'll zip those into a dictionary and pickle it.\n",
    "\n",
    "- We will want to include a 'Try-Except' clause as well in order to let the scrape continue if it hits any snags."
   ]
  },
  {
   "cell_type": "code",
   "execution_count": null,
   "metadata": {
    "collapsed": true
   },
   "outputs": [],
   "source": [
    "#two empty lists\n",
    "text_of_trials = []\n",
    "title_of_trials = []\n",
    "\n",
    "#change to an empty directory to save raw text files\n",
    "os.chdir(\"data_dump\")\n",
    "\n",
    "for u in list_trial_urls:\n",
    "    \n",
    "    # get the soup from each page of URL\n",
    "    url = u\n",
    "    req = requests.get(url,timeout=20)\n",
    "    req.html = req.text\n",
    "    soup = BeautifulSoup(req.html,\"html.parser\")\n",
    "    \n",
    "    #get the title of the trial\n",
    "    try:\n",
    "        title_of_trial = soup.find('div', class_='sessionsPaperTitle').get_text()\n",
    "        title_of_trials.append(title_of_trial)\n",
    "        print('Processed the title of trial:',len(title_of_trials))\n",
    "    except:\n",
    "        print('ERROR on title of trial!')\n",
    "    \n",
    "    try:\n",
    "        #get the trial text\n",
    "        trial_text = [] #blank list, must be outside of 4 loop\n",
    "        #find all links on each page\n",
    "        for p in soup.find('div', class_='sessionsPaper').find_all('p'):\n",
    "            trial_text.append(p.get_text()) #append each paragraph to blank list\n",
    "    \n",
    "        text_of_trials.append(trial_text)\n",
    "        print('Processed the test of trial:',len(text_of_trials))\n",
    "    except:\n",
    "        print(\"ERROR on text of trial!\")\n",
    "    \n",
    "    \n",
    "    #dict_trial = dict(zip(title_of_trials,trial_text))\n",
    "    #pickle.dump(dict_trial,open(\"obo_trials_returningfromtransport.p\",\"wb\"))\n",
    "    \n",
    "    #write out\n",
    "    f = open(title_of_trial,'w')\n",
    "    f.write(str(trial_text))\n",
    "    f.close()\n",
    "    \n",
    "    \n",
    "    #write out and save local object\n",
    "    #dict_return_transit_trials = dict(zip(title_of_trials,text_of_trials))\n",
    "    #with open('obo_transit_trails.json','w') as outfile: #open local file, write to it\n",
    "    #    outfile = json.dumps(dict_return_transit_trials) #send to outfile this python bit\n",
    "    \n",
    "    \n",
    "    \n",
    "    "
   ]
  },
  {
   "cell_type": "code",
   "execution_count": null,
   "metadata": {
    "collapsed": true
   },
   "outputs": [],
   "source": []
  },
  {
   "cell_type": "code",
   "execution_count": null,
   "metadata": {
    "collapsed": true
   },
   "outputs": [],
   "source": [
    "#data check\n",
    "title_of_trials[20:25]"
   ]
  },
  {
   "cell_type": "code",
   "execution_count": null,
   "metadata": {
    "collapsed": true
   },
   "outputs": [],
   "source": [
    "#data check\n",
    "text_of_trials[20:25]"
   ]
  },
  {
   "cell_type": "code",
   "execution_count": null,
   "metadata": {
    "collapsed": true
   },
   "outputs": [],
   "source": [
    "<font color=darkgreen>\n",
    "\n",
    "### 5. Save as pickle object\n",
    "\n",
    "- Pickle is the way to save python objects on local disk.\n",
    "- Probably a good idea to pickle while scraping for large scrapes in case there's an error b/c then you'll at least get a chunk of it.\n",
    "- Next week, we'll discuss storing them in more human-friendly ways.\n",
    "- For now, your goal should be to find a place with some interesting data and then scraping it."
   ]
  },
  {
   "cell_type": "code",
   "execution_count": null,
   "metadata": {
    "collapsed": true
   },
   "outputs": [],
   "source": [
    "# zip each of our lists into a dictionary, in which the key is the title and the value is the text of the trial.\n",
    "obo_return_transit_trials = dict(zip(title_of_trials,text_of_trials))"
   ]
  },
  {
   "cell_type": "code",
   "execution_count": null,
   "metadata": {
    "collapsed": true
   },
   "outputs": [],
   "source": [
    "len(obo_return_transit_trials)"
   ]
  },
  {
   "cell_type": "code",
   "execution_count": null,
   "metadata": {
    "collapsed": true
   },
   "outputs": [],
   "source": [
    "import pickle\n",
    "\n",
    "# wb stands for \"write binary\", that is, literally store this pickle as binary code\n",
    "pickle.dump(obo_return_transit_trials, open(\"obo_return_transit_trials.p\",\"wb\"))"
   ]
  },
  {
   "cell_type": "code",
   "execution_count": null,
   "metadata": {
    "collapsed": true
   },
   "outputs": [],
   "source": [
    "### Save as JSON\n",
    "\n",
    "* Essentially \"python dictionary object, but the local version!\""
   ]
  },
  {
   "cell_type": "code",
   "execution_count": null,
   "metadata": {
    "collapsed": true
   },
   "outputs": [],
   "source": [
    "import json\n",
    "\n",
    "dict_return_transit_trials = dict(zip(title_of_trials,text_of_trials))\n",
    "with open('obo_transit_trails.json','w') as outfile: #open local file, write to it\n",
    "    outfile = json.dumps(dict_return_transit_trials) #send to outfile this python bit"
   ]
  },
  {
   "cell_type": "markdown",
   "metadata": {},
   "source": [
    "***\n",
    "### Data wrangling in two weeks. For now, we're just focused on pulling the data from offline.\n",
    "\n",
    "\n",
    "### How to srape a website that requires a login:\n",
    "\n",
    "http://kazuar.github.io/scraping-tutorial/\n",
    "\n",
    "\n",
    "- Same as above, but you will have a dictionary containing the login information that will be fed into your request command."
   ]
  },
  {
   "cell_type": "markdown",
   "metadata": {},
   "source": [
    "***\n",
    "***"
   ]
  },
  {
   "cell_type": "markdown",
   "metadata": {},
   "source": [
    "<font color=darkred>\n",
    "\n",
    "# Homework\n",
    "\n",
    "http://www.presidency.ucsb.edu/sou.php\n",
    "\n",
    "### Scrape all of SOTU speeches. Store them as dictionary objects with each key as \"lastname_firstname_date\" and the value as the text (raw) of each speech. Upload these data to Harvard GDrive (n.b. $\\infty$ space), Dropbox, or Github and post a link to that on Canvas. Also include your IPython notebook.\n",
    "\n",
    "(n.b. In your script, your files should be saving to a place where they are automatically uploaded. This is good practice for getting large datasets and not overloading your storage. The `os.chdir` command changes the work directory to another folder alongside choosing to have that folder auto upload.)"
   ]
  },
  {
   "cell_type": "code",
   "execution_count": null,
   "metadata": {
    "collapsed": true
   },
   "outputs": [],
   "source": []
  }
 ],
 "metadata": {
  "kernelspec": {
   "display_name": "Python 3",
   "language": "python",
   "name": "python3"
  },
  "language_info": {
   "codemirror_mode": {
    "name": "ipython",
    "version": 3
   },
   "file_extension": ".py",
   "mimetype": "text/x-python",
   "name": "python",
   "nbconvert_exporter": "python",
   "pygments_lexer": "ipython3",
   "version": "3.6.3"
  }
 },
 "nbformat": 4,
 "nbformat_minor": 2
}
